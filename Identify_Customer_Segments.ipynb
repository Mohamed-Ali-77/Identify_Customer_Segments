{
 "cells": [
  {
   "cell_type": "markdown",
   "metadata": {},
   "source": [
    "# Project: Identify Customer Segments\n",
    "\n",
    "In this project, you will apply unsupervised learning techniques to identify segments of the population that form the core customer base for a mail-order sales company in Germany. These segments can then be used to direct marketing campaigns towards audiences that will have the highest expected rate of returns. The data that you will use has been provided by our partners at Bertelsmann Arvato Analytics, and represents a real-life data science task.\n",
    "\n",
    "This notebook will help you complete this task by providing a framework within which you will perform your analysis steps. In each step of the project, you will see some text describing the subtask that you will perform, followed by one or more code cells for you to complete your work. **Feel free to add additional code and markdown cells as you go along so that you can explore everything in precise chunks.** The code cells provided in the base template will outline only the major tasks, and will usually not be enough to cover all of the minor tasks that comprise it.\n",
    "\n",
    "It should be noted that while there will be precise guidelines on how you should handle certain tasks in the project, there will also be places where an exact specification is not provided. **There will be times in the project where you will need to make and justify your own decisions on how to treat the data.** These are places where there may not be only one way to handle the data. In real-life tasks, there may be many valid ways to approach an analysis task. One of the most important things you can do is clearly document your approach so that other scientists can understand the decisions you've made.\n",
    "\n",
    "At the end of most sections, there will be a Markdown cell labeled **Discussion**. In these cells, you will report your findings for the completed section, as well as document the decisions that you made in your approach to each subtask. **Your project will be evaluated not just on the code used to complete the tasks outlined, but also your communication about your observations and conclusions at each stage.**"
   ]
  },
  {
   "cell_type": "code",
   "execution_count": 1,
   "metadata": {},
   "outputs": [
    {
     "data": {
      "text/plain": [
       "'\\nImport note: The classroom currently uses sklearn version 0.19.\\nIf you need to use an imputer, it is available in sklearn.preprocessing.Imputer,\\ninstead of sklearn.impute as in newer versions of sklearn.\\n'"
      ]
     },
     "execution_count": 1,
     "metadata": {},
     "output_type": "execute_result"
    }
   ],
   "source": [
    "# import libraries here; add more as necessary\n",
    "import numpy as np\n",
    "import pandas as pd\n",
    "import matplotlib.pyplot as plt\n",
    "import seaborn as sb\n",
    "from matplotlib.pyplot import figure\n",
    "from sklearn.preprocessing import StandardScaler\n",
    "from sklearn.preprocessing import Imputer\n",
    "from sklearn.decomposition import PCA\n",
    "from sklearn.cluster import KMeans\n",
    "\n",
    "# magic word for producing visualizations in notebook\n",
    "%matplotlib inline\n",
    "\n",
    "import warnings \n",
    "warnings.filterwarnings(\"ignore\")\n",
    "'''\n",
    "Import note: The classroom currently uses sklearn version 0.19.\n",
    "If you need to use an imputer, it is available in sklearn.preprocessing.Imputer,\n",
    "instead of sklearn.impute as in newer versions of sklearn.\n",
    "'''"
   ]
  },
  {
   "cell_type": "markdown",
   "metadata": {},
   "source": [
    "### Step 0: Load the Data\n",
    "\n",
    "There are four files associated with this project (not including this one):\n",
    "\n",
    "- `Udacity_AZDIAS_Subset.csv`: Demographics data for the general population of Germany; 891211 persons (rows) x 85 features (columns).\n",
    "- `Udacity_CUSTOMERS_Subset.csv`: Demographics data for customers of a mail-order company; 191652 persons (rows) x 85 features (columns).\n",
    "- `Data_Dictionary.md`: Detailed information file about the features in the provided datasets.\n",
    "- `AZDIAS_Feature_Summary.csv`: Summary of feature attributes for demographics data; 85 features (rows) x 4 columns\n",
    "\n",
    "Each row of the demographics files represents a single person, but also includes information outside of individuals, including information about their household, building, and neighborhood. You will use this information to cluster the general population into groups with similar demographic properties. Then, you will see how the people in the customers dataset fit into those created clusters. The hope here is that certain clusters are over-represented in the customers data, as compared to the general population; those over-represented clusters will be assumed to be part of the core userbase. This information can then be used for further applications, such as targeting for a marketing campaign.\n",
    "\n",
    "To start off with, load in the demographics data for the general population into a pandas DataFrame, and do the same for the feature attributes summary. Note for all of the `.csv` data files in this project: they're semicolon (`;`) delimited, so you'll need an additional argument in your [`read_csv()`](https://pandas.pydata.org/pandas-docs/stable/generated/pandas.read_csv.html) call to read in the data properly. Also, considering the size of the main dataset, it may take some time for it to load completely.\n",
    "\n",
    "Once the dataset is loaded, it's recommended that you take a little bit of time just browsing the general structure of the dataset and feature summary file. You'll be getting deep into the innards of the cleaning in the first major step of the project, so gaining some general familiarity can help you get your bearings."
   ]
  },
  {
   "cell_type": "code",
   "execution_count": 2,
   "metadata": {},
   "outputs": [],
   "source": [
    "# Load in the general demographics data.\n",
    "azdias = pd.read_csv('Udacity_AZDIAS_Subset.csv', ';')\n",
    "\n",
    "# Load in the feature summary file.\n",
    "feat_info = pd.read_csv('AZDIAS_Feature_Summary.csv', ';')"
   ]
  },
  {
   "cell_type": "code",
   "execution_count": 3,
   "metadata": {},
   "outputs": [
    {
     "data": {
      "text/html": [
       "<div>\n",
       "<style scoped>\n",
       "    .dataframe tbody tr th:only-of-type {\n",
       "        vertical-align: middle;\n",
       "    }\n",
       "\n",
       "    .dataframe tbody tr th {\n",
       "        vertical-align: top;\n",
       "    }\n",
       "\n",
       "    .dataframe thead th {\n",
       "        text-align: right;\n",
       "    }\n",
       "</style>\n",
       "<table border=\"1\" class=\"dataframe\">\n",
       "  <thead>\n",
       "    <tr style=\"text-align: right;\">\n",
       "      <th></th>\n",
       "      <th>AGER_TYP</th>\n",
       "      <th>ALTERSKATEGORIE_GROB</th>\n",
       "      <th>ANREDE_KZ</th>\n",
       "      <th>CJT_GESAMTTYP</th>\n",
       "      <th>FINANZ_MINIMALIST</th>\n",
       "      <th>FINANZ_SPARER</th>\n",
       "      <th>FINANZ_VORSORGER</th>\n",
       "      <th>FINANZ_ANLEGER</th>\n",
       "      <th>FINANZ_UNAUFFAELLIGER</th>\n",
       "      <th>FINANZ_HAUSBAUER</th>\n",
       "      <th>...</th>\n",
       "      <th>PLZ8_ANTG1</th>\n",
       "      <th>PLZ8_ANTG2</th>\n",
       "      <th>PLZ8_ANTG3</th>\n",
       "      <th>PLZ8_ANTG4</th>\n",
       "      <th>PLZ8_BAUMAX</th>\n",
       "      <th>PLZ8_HHZ</th>\n",
       "      <th>PLZ8_GBZ</th>\n",
       "      <th>ARBEIT</th>\n",
       "      <th>ORTSGR_KLS9</th>\n",
       "      <th>RELAT_AB</th>\n",
       "    </tr>\n",
       "  </thead>\n",
       "  <tbody>\n",
       "    <tr>\n",
       "      <th>0</th>\n",
       "      <td>-1</td>\n",
       "      <td>2</td>\n",
       "      <td>1</td>\n",
       "      <td>2.0</td>\n",
       "      <td>3</td>\n",
       "      <td>4</td>\n",
       "      <td>3</td>\n",
       "      <td>5</td>\n",
       "      <td>5</td>\n",
       "      <td>3</td>\n",
       "      <td>...</td>\n",
       "      <td>NaN</td>\n",
       "      <td>NaN</td>\n",
       "      <td>NaN</td>\n",
       "      <td>NaN</td>\n",
       "      <td>NaN</td>\n",
       "      <td>NaN</td>\n",
       "      <td>NaN</td>\n",
       "      <td>NaN</td>\n",
       "      <td>NaN</td>\n",
       "      <td>NaN</td>\n",
       "    </tr>\n",
       "    <tr>\n",
       "      <th>1</th>\n",
       "      <td>-1</td>\n",
       "      <td>1</td>\n",
       "      <td>2</td>\n",
       "      <td>5.0</td>\n",
       "      <td>1</td>\n",
       "      <td>5</td>\n",
       "      <td>2</td>\n",
       "      <td>5</td>\n",
       "      <td>4</td>\n",
       "      <td>5</td>\n",
       "      <td>...</td>\n",
       "      <td>2.0</td>\n",
       "      <td>3.0</td>\n",
       "      <td>2.0</td>\n",
       "      <td>1.0</td>\n",
       "      <td>1.0</td>\n",
       "      <td>5.0</td>\n",
       "      <td>4.0</td>\n",
       "      <td>3.0</td>\n",
       "      <td>5.0</td>\n",
       "      <td>4.0</td>\n",
       "    </tr>\n",
       "    <tr>\n",
       "      <th>2</th>\n",
       "      <td>-1</td>\n",
       "      <td>3</td>\n",
       "      <td>2</td>\n",
       "      <td>3.0</td>\n",
       "      <td>1</td>\n",
       "      <td>4</td>\n",
       "      <td>1</td>\n",
       "      <td>2</td>\n",
       "      <td>3</td>\n",
       "      <td>5</td>\n",
       "      <td>...</td>\n",
       "      <td>3.0</td>\n",
       "      <td>3.0</td>\n",
       "      <td>1.0</td>\n",
       "      <td>0.0</td>\n",
       "      <td>1.0</td>\n",
       "      <td>4.0</td>\n",
       "      <td>4.0</td>\n",
       "      <td>3.0</td>\n",
       "      <td>5.0</td>\n",
       "      <td>2.0</td>\n",
       "    </tr>\n",
       "  </tbody>\n",
       "</table>\n",
       "<p>3 rows × 85 columns</p>\n",
       "</div>"
      ],
      "text/plain": [
       "   AGER_TYP  ALTERSKATEGORIE_GROB  ANREDE_KZ  CJT_GESAMTTYP  \\\n",
       "0        -1                     2          1            2.0   \n",
       "1        -1                     1          2            5.0   \n",
       "2        -1                     3          2            3.0   \n",
       "\n",
       "   FINANZ_MINIMALIST  FINANZ_SPARER  FINANZ_VORSORGER  FINANZ_ANLEGER  \\\n",
       "0                  3              4                 3               5   \n",
       "1                  1              5                 2               5   \n",
       "2                  1              4                 1               2   \n",
       "\n",
       "   FINANZ_UNAUFFAELLIGER  FINANZ_HAUSBAUER    ...     PLZ8_ANTG1  PLZ8_ANTG2  \\\n",
       "0                      5                 3    ...            NaN         NaN   \n",
       "1                      4                 5    ...            2.0         3.0   \n",
       "2                      3                 5    ...            3.0         3.0   \n",
       "\n",
       "   PLZ8_ANTG3  PLZ8_ANTG4  PLZ8_BAUMAX  PLZ8_HHZ  PLZ8_GBZ  ARBEIT  \\\n",
       "0         NaN         NaN          NaN       NaN       NaN     NaN   \n",
       "1         2.0         1.0          1.0       5.0       4.0     3.0   \n",
       "2         1.0         0.0          1.0       4.0       4.0     3.0   \n",
       "\n",
       "   ORTSGR_KLS9  RELAT_AB  \n",
       "0          NaN       NaN  \n",
       "1          5.0       4.0  \n",
       "2          5.0       2.0  \n",
       "\n",
       "[3 rows x 85 columns]"
      ]
     },
     "execution_count": 3,
     "metadata": {},
     "output_type": "execute_result"
    }
   ],
   "source": [
    "# Check the structure of the data after it's loaded (e.g. print the number of\n",
    "# rows and columns, print the first few rows).\n",
    "\n",
    "azdias.head(3)"
   ]
  },
  {
   "cell_type": "code",
   "execution_count": 4,
   "metadata": {},
   "outputs": [
    {
     "name": "stdout",
     "output_type": "stream",
     "text": [
      "<class 'pandas.core.frame.DataFrame'>\n",
      "RangeIndex: 85 entries, 0 to 84\n",
      "Data columns (total 4 columns):\n",
      "attribute             85 non-null object\n",
      "information_level     85 non-null object\n",
      "type                  85 non-null object\n",
      "missing_or_unknown    85 non-null object\n",
      "dtypes: object(4)\n",
      "memory usage: 2.7+ KB\n"
     ]
    }
   ],
   "source": [
    "feat_info.info()"
   ]
  },
  {
   "cell_type": "markdown",
   "metadata": {},
   "source": [
    "> **Tip**: Add additional cells to keep everything in reasonably-sized chunks! Keyboard shortcut `esc --> a` (press escape to enter command mode, then press the 'A' key) adds a new cell before the active cell, and `esc --> b` adds a new cell after the active cell. If you need to convert an active cell to a markdown cell, use `esc --> m` and to convert to a code cell, use `esc --> y`. \n",
    "\n",
    "## Step 1: Preprocessing\n",
    "\n",
    "### Step 1.1: Assess Missing Data\n",
    "\n",
    "The feature summary file contains a summary of properties for each demographics data column. You will use this file to help you make cleaning decisions during this stage of the project. First of all, you should assess the demographics data in terms of missing data. Pay attention to the following points as you perform your analysis, and take notes on what you observe. Make sure that you fill in the **Discussion** cell with your findings and decisions at the end of each step that has one!\n",
    "\n",
    "#### Step 1.1.1: Convert Missing Value Codes to NaNs\n",
    "The fourth column of the feature attributes summary (loaded in above as `feat_info`) documents the codes from the data dictionary that indicate missing or unknown data. While the file encodes this as a list (e.g. `[-1,0]`), this will get read in as a string object. You'll need to do a little bit of parsing to make use of it to identify and clean the data. Convert data that matches a 'missing' or 'unknown' value code into a numpy NaN value. You might want to see how much data takes on a 'missing' or 'unknown' code, and how much data is naturally missing, as a point of interest.\n",
    "\n",
    "**As one more reminder, you are encouraged to add additional cells to break up your analysis into manageable chunks.**"
   ]
  },
  {
   "cell_type": "code",
   "execution_count": 5,
   "metadata": {},
   "outputs": [
    {
     "data": {
      "text/html": [
       "<div>\n",
       "<style scoped>\n",
       "    .dataframe tbody tr th:only-of-type {\n",
       "        vertical-align: middle;\n",
       "    }\n",
       "\n",
       "    .dataframe tbody tr th {\n",
       "        vertical-align: top;\n",
       "    }\n",
       "\n",
       "    .dataframe thead th {\n",
       "        text-align: right;\n",
       "    }\n",
       "</style>\n",
       "<table border=\"1\" class=\"dataframe\">\n",
       "  <thead>\n",
       "    <tr style=\"text-align: right;\">\n",
       "      <th></th>\n",
       "      <th>attribute</th>\n",
       "      <th>information_level</th>\n",
       "      <th>type</th>\n",
       "      <th>missing_or_unknown</th>\n",
       "    </tr>\n",
       "  </thead>\n",
       "  <tbody>\n",
       "    <tr>\n",
       "      <th>48</th>\n",
       "      <td>W_KEIT_KIND_HH</td>\n",
       "      <td>household</td>\n",
       "      <td>ordinal</td>\n",
       "      <td>[-1,0]</td>\n",
       "    </tr>\n",
       "    <tr>\n",
       "      <th>35</th>\n",
       "      <td>SEMIO_KAEM</td>\n",
       "      <td>person</td>\n",
       "      <td>ordinal</td>\n",
       "      <td>[-1,9]</td>\n",
       "    </tr>\n",
       "    <tr>\n",
       "      <th>7</th>\n",
       "      <td>FINANZ_ANLEGER</td>\n",
       "      <td>person</td>\n",
       "      <td>ordinal</td>\n",
       "      <td>[-1]</td>\n",
       "    </tr>\n",
       "    <tr>\n",
       "      <th>39</th>\n",
       "      <td>SOHO_KZ</td>\n",
       "      <td>person</td>\n",
       "      <td>categorical</td>\n",
       "      <td>[-1]</td>\n",
       "    </tr>\n",
       "    <tr>\n",
       "      <th>66</th>\n",
       "      <td>BALLRAUM</td>\n",
       "      <td>postcode</td>\n",
       "      <td>ordinal</td>\n",
       "      <td>[-1]</td>\n",
       "    </tr>\n",
       "    <tr>\n",
       "      <th>29</th>\n",
       "      <td>SEMIO_LUST</td>\n",
       "      <td>person</td>\n",
       "      <td>ordinal</td>\n",
       "      <td>[-1,9]</td>\n",
       "    </tr>\n",
       "    <tr>\n",
       "      <th>40</th>\n",
       "      <td>TITEL_KZ</td>\n",
       "      <td>person</td>\n",
       "      <td>categorical</td>\n",
       "      <td>[-1,0]</td>\n",
       "    </tr>\n",
       "    <tr>\n",
       "      <th>65</th>\n",
       "      <td>KBA05_GBZ</td>\n",
       "      <td>microcell_rr3</td>\n",
       "      <td>ordinal</td>\n",
       "      <td>[-1,0]</td>\n",
       "    </tr>\n",
       "    <tr>\n",
       "      <th>43</th>\n",
       "      <td>ALTER_HH</td>\n",
       "      <td>household</td>\n",
       "      <td>interval</td>\n",
       "      <td>[0]</td>\n",
       "    </tr>\n",
       "    <tr>\n",
       "      <th>22</th>\n",
       "      <td>PRAEGENDE_JUGENDJAHRE</td>\n",
       "      <td>person</td>\n",
       "      <td>mixed</td>\n",
       "      <td>[-1,0]</td>\n",
       "    </tr>\n",
       "  </tbody>\n",
       "</table>\n",
       "</div>"
      ],
      "text/plain": [
       "                attribute information_level         type missing_or_unknown\n",
       "48         W_KEIT_KIND_HH         household      ordinal             [-1,0]\n",
       "35             SEMIO_KAEM            person      ordinal             [-1,9]\n",
       "7          FINANZ_ANLEGER            person      ordinal               [-1]\n",
       "39                SOHO_KZ            person  categorical               [-1]\n",
       "66               BALLRAUM          postcode      ordinal               [-1]\n",
       "29             SEMIO_LUST            person      ordinal             [-1,9]\n",
       "40               TITEL_KZ            person  categorical             [-1,0]\n",
       "65              KBA05_GBZ     microcell_rr3      ordinal             [-1,0]\n",
       "43               ALTER_HH         household     interval                [0]\n",
       "22  PRAEGENDE_JUGENDJAHRE            person        mixed             [-1,0]"
      ]
     },
     "execution_count": 5,
     "metadata": {},
     "output_type": "execute_result"
    }
   ],
   "source": [
    "feat_info.sample(10)"
   ]
  },
  {
   "cell_type": "code",
   "execution_count": 6,
   "metadata": {},
   "outputs": [],
   "source": [
    "azdias_missing = azdias.copy()"
   ]
  },
  {
   "cell_type": "code",
   "execution_count": 7,
   "metadata": {},
   "outputs": [],
   "source": [
    "# Identify missing or unknown data values and convert them to NaNs.\n",
    "for i in range(feat_info.shape[0]):\n",
    "    missing = feat_info.missing_or_unknown.iloc[i]\n",
    "    attribute_column_name = feat_info.attribute.iloc[i]\n",
    "    missing = missing[1:-1]\n",
    "    if(len(missing) == 0):\n",
    "        azdias_missing[attribute_column_name] = azdias_missing[attribute_column_name].replace(missing,np.nan)\n",
    "    elif(len(missing) != 0):\n",
    "        missing = missing.split(',')\n",
    "        for j in range(len(missing)):\n",
    "            if(azdias_missing[attribute_column_name].dtype == np.float64):\n",
    "                azdias_missing[attribute_column_name] = azdias_missing[attribute_column_name].replace(float(missing[j]),np.nan)\n",
    "            elif(azdias_missing[attribute_column_name].dtype == np.int64):\n",
    "                azdias_missing[attribute_column_name] = azdias_missing[attribute_column_name].replace(int(missing[j]),np.nan)\n",
    "            \n",
    "            else:\n",
    "                azdias_missing[attribute_column_name] = azdias_missing[attribute_column_name].replace(missing[j],np.nan)"
   ]
  },
  {
   "cell_type": "markdown",
   "metadata": {},
   "source": [
    "### Test Scenario for identify missing or unknown data values and convert them to NaNs\n"
   ]
  },
  {
   "cell_type": "code",
   "execution_count": 8,
   "metadata": {},
   "outputs": [
    {
     "data": {
      "text/plain": [
       "2.0    98472\n",
       "1.0    79802\n",
       "3.0    27104\n",
       "Name: AGER_TYP, dtype: int64"
      ]
     },
     "execution_count": 8,
     "metadata": {},
     "output_type": "execute_result"
    }
   ],
   "source": [
    "azdias_missing.AGER_TYP.value_counts()"
   ]
  },
  {
   "cell_type": "code",
   "execution_count": 9,
   "metadata": {},
   "outputs": [
    {
     "data": {
      "text/plain": [
       "-1    677503\n",
       " 2     98472\n",
       " 1     79802\n",
       " 3     27104\n",
       " 0      8340\n",
       "Name: AGER_TYP, dtype: int64"
      ]
     },
     "execution_count": 9,
     "metadata": {},
     "output_type": "execute_result"
    }
   ],
   "source": [
    "azdias.AGER_TYP.value_counts()"
   ]
  },
  {
   "cell_type": "code",
   "execution_count": 10,
   "metadata": {},
   "outputs": [
    {
     "data": {
      "text/plain": [
       "True"
      ]
     },
     "execution_count": 10,
     "metadata": {},
     "output_type": "execute_result"
    }
   ],
   "source": [
    "azdias_missing.AGER_TYP.isna().values.any()"
   ]
  },
  {
   "cell_type": "code",
   "execution_count": 11,
   "metadata": {},
   "outputs": [
    {
     "data": {
      "text/plain": [
       "nan"
      ]
     },
     "execution_count": 11,
     "metadata": {},
     "output_type": "execute_result"
    }
   ],
   "source": [
    "azdias_missing['CAMEO_DEUG_2015'][2511]"
   ]
  },
  {
   "cell_type": "code",
   "execution_count": 12,
   "metadata": {},
   "outputs": [
    {
     "data": {
      "text/plain": [
       "'X'"
      ]
     },
     "execution_count": 12,
     "metadata": {},
     "output_type": "execute_result"
    }
   ],
   "source": [
    "azdias['CAMEO_DEUG_2015'][2511]"
   ]
  },
  {
   "cell_type": "markdown",
   "metadata": {},
   "source": [
    "#### Step 1.1.2: Assess Missing Data in Each Column\n",
    "\n",
    "How much missing data is present in each column? There are a few columns that are outliers in terms of the proportion of values that are missing. You will want to use matplotlib's [`hist()`](https://matplotlib.org/api/_as_gen/matplotlib.pyplot.hist.html) function to visualize the distribution of missing value counts to find these columns. Identify and document these columns. While some of these columns might have justifications for keeping or re-encoding the data, for this project you should just remove them from the dataframe. (Feel free to make remarks about these outlier columns in the discussion, however!)\n",
    "\n",
    "For the remaining features, are there any patterns in which columns have, or share, missing data?"
   ]
  },
  {
   "cell_type": "code",
   "execution_count": 13,
   "metadata": {},
   "outputs": [],
   "source": [
    "# Perform an assessment of how much missing data there is in each column of the\n",
    "# dataset.\n",
    "\n",
    "\n",
    "na_counts = azdias_missing.isna().sum()\n",
    "na_columns = np.array(na_counts.index.values)\n",
    "na_counts_np = np.array(na_counts)"
   ]
  },
  {
   "cell_type": "code",
   "execution_count": 14,
   "metadata": {},
   "outputs": [
    {
     "data": {
      "text/html": [
       "<div>\n",
       "<style scoped>\n",
       "    .dataframe tbody tr th:only-of-type {\n",
       "        vertical-align: middle;\n",
       "    }\n",
       "\n",
       "    .dataframe tbody tr th {\n",
       "        vertical-align: top;\n",
       "    }\n",
       "\n",
       "    .dataframe thead th {\n",
       "        text-align: right;\n",
       "    }\n",
       "</style>\n",
       "<table border=\"1\" class=\"dataframe\">\n",
       "  <thead>\n",
       "    <tr style=\"text-align: right;\">\n",
       "      <th></th>\n",
       "      <th>NaN_Counts</th>\n",
       "      <th>NaN_Proportions(%)</th>\n",
       "    </tr>\n",
       "  </thead>\n",
       "  <tbody>\n",
       "    <tr>\n",
       "      <th>TITEL_KZ</th>\n",
       "      <td>889061</td>\n",
       "      <td>99.757636</td>\n",
       "    </tr>\n",
       "    <tr>\n",
       "      <th>AGER_TYP</th>\n",
       "      <td>685843</td>\n",
       "      <td>76.955435</td>\n",
       "    </tr>\n",
       "    <tr>\n",
       "      <th>KK_KUNDENTYP</th>\n",
       "      <td>584612</td>\n",
       "      <td>65.596749</td>\n",
       "    </tr>\n",
       "    <tr>\n",
       "      <th>KBA05_BAUMAX</th>\n",
       "      <td>476524</td>\n",
       "      <td>53.468668</td>\n",
       "    </tr>\n",
       "    <tr>\n",
       "      <th>GEBURTSJAHR</th>\n",
       "      <td>392318</td>\n",
       "      <td>44.020282</td>\n",
       "    </tr>\n",
       "    <tr>\n",
       "      <th>ALTER_HH</th>\n",
       "      <td>310267</td>\n",
       "      <td>34.813699</td>\n",
       "    </tr>\n",
       "    <tr>\n",
       "      <th>KKK</th>\n",
       "      <td>158064</td>\n",
       "      <td>17.735668</td>\n",
       "    </tr>\n",
       "    <tr>\n",
       "      <th>REGIOTYP</th>\n",
       "      <td>158064</td>\n",
       "      <td>17.735668</td>\n",
       "    </tr>\n",
       "  </tbody>\n",
       "</table>\n",
       "</div>"
      ],
      "text/plain": [
       "              NaN_Counts  NaN_Proportions(%)\n",
       "TITEL_KZ          889061           99.757636\n",
       "AGER_TYP          685843           76.955435\n",
       "KK_KUNDENTYP      584612           65.596749\n",
       "KBA05_BAUMAX      476524           53.468668\n",
       "GEBURTSJAHR       392318           44.020282\n",
       "ALTER_HH          310267           34.813699\n",
       "KKK               158064           17.735668\n",
       "REGIOTYP          158064           17.735668"
      ]
     },
     "execution_count": 14,
     "metadata": {},
     "output_type": "execute_result"
    }
   ],
   "source": [
    "missing_data_azdias = pd.DataFrame({'NaN_Counts': na_counts, 'NaN_Proportions(%)': (na_counts / azdias_missing.shape[0]) * 100})\n",
    "missing_data_azdias = missing_data_azdias.sort_values(by='NaN_Counts', ascending=False)\n",
    "missing_data_azdias.head(8)"
   ]
  },
  {
   "cell_type": "code",
   "execution_count": 15,
   "metadata": {},
   "outputs": [
    {
     "data": {
      "image/png": "[encoded data removed]",
      "text/plain": [
       "<matplotlib.figure.Figure at 0x7f2eed69b438>"
      ]
     },
     "metadata": {},
     "output_type": "display_data"
    }
   ],
   "source": [
    "# Investigate patterns in the amount of missing data in each column.\n",
    "# Divide Graph into two parts to be more clear\n",
    "\n",
    "figure(num=None, figsize=(15, 5), dpi=80, facecolor='w', edgecolor='k')\n",
    "base_color = sb.color_palette()[0]\n",
    "sb.barplot(na_columns[:49], na_counts_np[:49], color=base_color)\n",
    "plt.xticks(rotation = 90);"
   ]
  },
  {
   "cell_type": "code",
   "execution_count": 16,
   "metadata": {},
   "outputs": [
    {
     "data": {
      "image/png": "[encoded data removed]",
      "text/plain": [
       "<matplotlib.figure.Figure at 0x7f2eeae20a58>"
      ]
     },
     "metadata": {},
     "output_type": "display_data"
    }
   ],
   "source": [
    "figure(num=None, figsize=(15, 5), dpi=80, facecolor='w', edgecolor='k')\n",
    "base_color = sb.color_palette()[0]\n",
    "sb.barplot(na_columns[47:-1], na_counts_np[47:-1], color=base_color)\n",
    "plt.xticks(rotation = 90);"
   ]
  },
  {
   "cell_type": "code",
   "execution_count": 17,
   "metadata": {},
   "outputs": [],
   "source": [
    "# Remove the outlier columns from the dataset. (You'll perform other data\n",
    "# engineering tasks such as re-encoding and imputation later.)\n",
    "outlier_columns = ['AGER_TYP', 'KK_KUNDENTYP','TITEL_KZ', 'KBA05_BAUMAX','GEBURTSJAHR','ALTER_HH']\n",
    "azdias_missing = azdias_missing.drop(outlier_columns, axis=1)"
   ]
  },
  {
   "cell_type": "code",
   "execution_count": 18,
   "metadata": {},
   "outputs": [
    {
     "name": "stdout",
     "output_type": "stream",
     "text": [
      "(85, 4)\n",
      "(79, 4)\n"
     ]
    }
   ],
   "source": [
    "# Make a copy of feat_info and drop the outlier columns in it also\n",
    "feat_info_missing = feat_info.copy()\n",
    "print(feat_info_missing.shape)\n",
    "feat_info_missing = feat_info_missing[~feat_info_missing.attribute.isin(outlier_columns)]\n",
    "print(feat_info_missing.shape)"
   ]
  },
  {
   "cell_type": "markdown",
   "metadata": {},
   "source": [
    "#### Discussion 1.1.2: Assess Missing Data in Each Column\n",
    "- It is observed than most of the columns have missing data for a mean of 11%\n",
    "- There were 6 columns that had more than 30% missing therefore were dropped as they will not be useful\n",
    "- Around 28% of columns has no missing values\n",
    "- The columns with the missing data are of various type (ordinal, categorical, numeric), couldn't observe a clear relationship between them"
   ]
  },
  {
   "cell_type": "code",
   "execution_count": 19,
   "metadata": {},
   "outputs": [
    {
     "data": {
      "text/html": [
       "<div>\n",
       "<style scoped>\n",
       "    .dataframe tbody tr th:only-of-type {\n",
       "        vertical-align: middle;\n",
       "    }\n",
       "\n",
       "    .dataframe tbody tr th {\n",
       "        vertical-align: top;\n",
       "    }\n",
       "\n",
       "    .dataframe thead th {\n",
       "        text-align: right;\n",
       "    }\n",
       "</style>\n",
       "<table border=\"1\" class=\"dataframe\">\n",
       "  <thead>\n",
       "    <tr style=\"text-align: right;\">\n",
       "      <th></th>\n",
       "      <th>NaN_Counts</th>\n",
       "      <th>NaN_Proportions(%)</th>\n",
       "    </tr>\n",
       "  </thead>\n",
       "  <tbody>\n",
       "    <tr>\n",
       "      <th>count</th>\n",
       "      <td>85.000000</td>\n",
       "      <td>85.000000</td>\n",
       "    </tr>\n",
       "    <tr>\n",
       "      <th>mean</th>\n",
       "      <td>98516.811765</td>\n",
       "      <td>11.054139</td>\n",
       "    </tr>\n",
       "    <tr>\n",
       "      <th>std</th>\n",
       "      <td>146604.203317</td>\n",
       "      <td>16.449815</td>\n",
       "    </tr>\n",
       "    <tr>\n",
       "      <th>min</th>\n",
       "      <td>0.000000</td>\n",
       "      <td>0.000000</td>\n",
       "    </tr>\n",
       "    <tr>\n",
       "      <th>25%</th>\n",
       "      <td>0.000000</td>\n",
       "      <td>0.000000</td>\n",
       "    </tr>\n",
       "    <tr>\n",
       "      <th>50%</th>\n",
       "      <td>93148.000000</td>\n",
       "      <td>10.451729</td>\n",
       "    </tr>\n",
       "    <tr>\n",
       "      <th>75%</th>\n",
       "      <td>116515.000000</td>\n",
       "      <td>13.073637</td>\n",
       "    </tr>\n",
       "    <tr>\n",
       "      <th>max</th>\n",
       "      <td>889061.000000</td>\n",
       "      <td>99.757636</td>\n",
       "    </tr>\n",
       "  </tbody>\n",
       "</table>\n",
       "</div>"
      ],
      "text/plain": [
       "          NaN_Counts  NaN_Proportions(%)\n",
       "count      85.000000           85.000000\n",
       "mean    98516.811765           11.054139\n",
       "std    146604.203317           16.449815\n",
       "min         0.000000            0.000000\n",
       "25%         0.000000            0.000000\n",
       "50%     93148.000000           10.451729\n",
       "75%    116515.000000           13.073637\n",
       "max    889061.000000           99.757636"
      ]
     },
     "execution_count": 19,
     "metadata": {},
     "output_type": "execute_result"
    }
   ],
   "source": [
    "missing_data_azdias.describe()"
   ]
  },
  {
   "cell_type": "markdown",
   "metadata": {},
   "source": [
    "#### Step 1.1.3: Assess Missing Data in Each Row\n",
    "\n",
    "Now, you'll perform a similar assessment for the rows of the dataset. How much data is missing in each row? As with the columns, you should see some groups of points that have a very different numbers of missing values. Divide the data into two subsets: one for data points that are above some threshold for missing values, and a second subset for points below that threshold.\n",
    "\n",
    "In order to know what to do with the outlier rows, we should see if the distribution of data values on columns that are not missing data (or are missing very little data) are similar or different between the two groups. Select at least five of these columns and compare the distribution of values.\n",
    "- You can use seaborn's [`countplot()`](https://seaborn.pydata.org/generated/seaborn.countplot.html) function to create a bar chart of code frequencies and matplotlib's [`subplot()`](https://matplotlib.org/api/_as_gen/matplotlib.pyplot.subplot.html) function to put bar charts for the two subplots side by side.\n",
    "- To reduce repeated code, you might want to write a function that can perform this comparison, taking as one of its arguments a column to be compared.\n",
    "\n",
    "Depending on what you observe in your comparison, this will have implications on how you approach your conclusions later in the analysis. If the distributions of non-missing features look similar between the data with many missing values and the data with few or no missing values, then we could argue that simply dropping those points from the analysis won't present a major issue. On the other hand, if the data with many missing values looks very different from the data with few or no missing values, then we should make a note on those data as special. We'll revisit these data later on. **Either way, you should continue your analysis for now using just the subset of the data with few or no missing values.**"
   ]
  },
  {
   "cell_type": "code",
   "execution_count": 20,
   "metadata": {},
   "outputs": [],
   "source": [
    "# How much data is missing in each row of the dataset?\n",
    "n_missing_rows = azdias_missing.isna().sum(axis=1)"
   ]
  },
  {
   "cell_type": "code",
   "execution_count": 21,
   "metadata": {},
   "outputs": [
    {
     "data": {
      "text/plain": [
       "(array([  6.66873000e+05,   3.02360000e+04,   5.00000000e+04,\n",
       "          2.76340000e+04,   7.30300000e+03,   5.49800000e+03,\n",
       "          7.92500000e+03,   1.60800000e+03,   6.28000000e+02,\n",
       "          2.01000000e+02,   1.14000000e+02,   4.10000000e+01,\n",
       "          9.00000000e+00,   1.40070000e+04,   3.99500000e+03,\n",
       "          1.03600000e+03,   4.93000000e+02,   2.75450000e+04,\n",
       "          4.94000000e+02,   4.55810000e+04]),\n",
       " array([  0.  ,   2.45,   4.9 ,   7.35,   9.8 ,  12.25,  14.7 ,  17.15,\n",
       "         19.6 ,  22.05,  24.5 ,  26.95,  29.4 ,  31.85,  34.3 ,  36.75,\n",
       "         39.2 ,  41.65,  44.1 ,  46.55,  49.  ]),\n",
       " <a list of 20 Patch objects>)"
      ]
     },
     "execution_count": 21,
     "metadata": {},
     "output_type": "execute_result"
    },
    {
     "data": {
      "image/png": "[encoded data removed]",
      "text/plain": [
       "<matplotlib.figure.Figure at 0x7f2ee938edd8>"
      ]
     },
     "metadata": {
      "needs_background": "light"
     },
     "output_type": "display_data"
    }
   ],
   "source": [
    "fig, axs = plt.subplots(tight_layout=True)\n",
    "axs.hist(n_missing_rows, bins=20)"
   ]
  },
  {
   "cell_type": "code",
   "execution_count": 22,
   "metadata": {},
   "outputs": [],
   "source": [
    "# Write code to divide the data into two subsets based on the number of missing\n",
    "# values in each row.\n",
    "# here the threshold 20 is the best threshold to split\n",
    "n_missing_rows_high = n_missing_rows[n_missing_rows > 20]\n",
    "n_missing_rows_low = n_missing_rows[n_missing_rows < 20]\n"
   ]
  },
  {
   "cell_type": "code",
   "execution_count": 23,
   "metadata": {},
   "outputs": [],
   "source": [
    "# Compare the distribution of values for at least five columns where there are\n",
    "# no or few missing values, between the two subsets.\n",
    "def compare(column_name):\n",
    "    figure(figsize=(14,5))\n",
    "    plt.subplot(1,2,1)\n",
    "    sb.countplot(data=azdias_missing.iloc[n_missing_rows_high.index], x=column_name, color=sb.color_palette()[0])\n",
    "    plt.title('High Missing Data')\n",
    "    \n",
    "    plt.subplot(1,2,2)\n",
    "    sb.countplot(data=azdias_missing.iloc[n_missing_rows_low.index], x=column_name, color=sb.color_palette()[1])\n",
    "    plt.title('Few Missing Data')\n"
   ]
  },
  {
   "cell_type": "code",
   "execution_count": 24,
   "metadata": {},
   "outputs": [
    {
     "data": {
      "image/png": "[encoded data removed]",
      "text/plain": [
       "<matplotlib.figure.Figure at 0x7f2ee92ff9b0>"
      ]
     },
     "metadata": {
      "needs_background": "light"
     },
     "output_type": "display_data"
    }
   ],
   "source": [
    "compare('HH_EINKOMMEN_SCORE')"
   ]
  },
  {
   "cell_type": "code",
   "execution_count": 25,
   "metadata": {},
   "outputs": [
    {
     "data": {
      "image/png": "[encoded data removed]",
      "text/plain": [
       "<matplotlib.figure.Figure at 0x7f2ee922c0f0>"
      ]
     },
     "metadata": {
      "needs_background": "light"
     },
     "output_type": "display_data"
    }
   ],
   "source": [
    "compare('PRAEGENDE_JUGENDJAHRE')"
   ]
  },
  {
   "cell_type": "code",
   "execution_count": 26,
   "metadata": {},
   "outputs": [
    {
     "data": {
      "image/png": "[encoded data removed]",
      "text/plain": [
       "<matplotlib.figure.Figure at 0x7f2ee919b5f8>"
      ]
     },
     "metadata": {
      "needs_background": "light"
     },
     "output_type": "display_data"
    }
   ],
   "source": [
    "compare('PLZ8_ANTG1') "
   ]
  },
  {
   "cell_type": "code",
   "execution_count": 27,
   "metadata": {},
   "outputs": [
    {
     "data": {
      "image/png": "[encoded data removed]",
      "text/plain": [
       "<matplotlib.figure.Figure at 0x7f2ee90cc8d0>"
      ]
     },
     "metadata": {
      "needs_background": "light"
     },
     "output_type": "display_data"
    }
   ],
   "source": [
    "compare('HEALTH_TYP') "
   ]
  },
  {
   "cell_type": "code",
   "execution_count": 28,
   "metadata": {},
   "outputs": [
    {
     "data": {
      "image/png": "[encoded data removed]",
      "text/plain": [
       "<matplotlib.figure.Figure at 0x7f2ee9211588>"
      ]
     },
     "metadata": {
      "needs_background": "light"
     },
     "output_type": "display_data"
    }
   ],
   "source": [
    "compare('NATIONALITAET_KZ') "
   ]
  },
  {
   "cell_type": "code",
   "execution_count": 29,
   "metadata": {},
   "outputs": [
    {
     "data": {
      "text/plain": [
       "(797077, 79)"
      ]
     },
     "execution_count": 29,
     "metadata": {},
     "output_type": "execute_result"
    }
   ],
   "source": [
    "# Drop high missing rows\n",
    "azdias_few_missing = azdias_missing.copy()\n",
    "azdias_few_missing = azdias_few_missing.iloc[n_missing_rows_low.index,:]\n",
    "azdias_few_missing.shape"
   ]
  },
  {
   "cell_type": "markdown",
   "metadata": {},
   "source": [
    "#### Discussion 1.1.3: Assess Missing Data in Each Row\n",
    "\n",
    "- Around 10.5% of total number of rows have high missing values according to threshold chosen (>20)\n",
    "- Dropping these high missing values will cause loss of 10% of data, usually ML models works better with more data, on the other hand, it is very difficult to impute many of this missing values as it is related to customers, therefore will make inaccurate data which will be much worse than losing these data.\n",
    "- Data with lots of missing values are qualitatively different from data with few or no missing values since the distribution of the 5 column samples that I take were really different from each other except for 'NATIONALITAET_KZ' which had almost same distribution"
   ]
  },
  {
   "cell_type": "markdown",
   "metadata": {},
   "source": [
    "### Step 1.2: Select and Re-Encode Features\n",
    "\n",
    "Checking for missing data isn't the only way in which you can prepare a dataset for analysis. Since the unsupervised learning techniques to be used will only work on data that is encoded numerically, you need to make a few encoding changes or additional assumptions to be able to make progress. In addition, while almost all of the values in the dataset are encoded using numbers, not all of them represent numeric values. Check the third column of the feature summary (`feat_info`) for a summary of types of measurement.\n",
    "- For numeric and interval data, these features can be kept without changes.\n",
    "- Most of the variables in the dataset are ordinal in nature. While ordinal values may technically be non-linear in spacing, make the simplifying assumption that the ordinal variables can be treated as being interval in nature (that is, kept without any changes).\n",
    "- Special handling may be necessary for the remaining two variable types: categorical, and 'mixed'.\n",
    "\n",
    "In the first two parts of this sub-step, you will perform an investigation of the categorical and mixed-type features and make a decision on each of them, whether you will keep, drop, or re-encode each. Then, in the last part, you will create a new data frame with only the selected and engineered columns.\n",
    "\n",
    "Data wrangling is often the trickiest part of the data analysis process, and there's a lot of it to be done here. But stick with it: once you're done with this step, you'll be ready to get to the machine learning parts of the project!"
   ]
  },
  {
   "cell_type": "code",
   "execution_count": 30,
   "metadata": {},
   "outputs": [
    {
     "data": {
      "text/plain": [
       "ordinal        49\n",
       "categorical    18\n",
       "numeric         6\n",
       "mixed           6\n",
       "Name: type, dtype: int64"
      ]
     },
     "execution_count": 30,
     "metadata": {},
     "output_type": "execute_result"
    }
   ],
   "source": [
    "# How many features are there of each data type?\n",
    "feat_info_missing.type.value_counts()\n"
   ]
  },
  {
   "cell_type": "markdown",
   "metadata": {},
   "source": [
    "#### Step 1.2.1: Re-Encode Categorical Features\n",
    "\n",
    "For categorical data, you would ordinarily need to encode the levels as dummy variables. Depending on the number of categories, perform one of the following:\n",
    "- For binary (two-level) categoricals that take numeric values, you can keep them without needing to do anything.\n",
    "- There is one binary variable that takes on non-numeric values. For this one, you need to re-encode the values as numbers or create a dummy variable.\n",
    "- For multi-level categoricals (three or more values), you can choose to encode the values using multiple dummy variables (e.g. via [OneHotEncoder](http://scikit-learn.org/stable/modules/generated/sklearn.preprocessing.OneHotEncoder.html)), or (to keep things straightforward) just drop them from the analysis. As always, document your choices in the Discussion section."
   ]
  },
  {
   "cell_type": "code",
   "execution_count": 31,
   "metadata": {},
   "outputs": [
    {
     "data": {
      "text/html": [
       "<div>\n",
       "<style scoped>\n",
       "    .dataframe tbody tr th:only-of-type {\n",
       "        vertical-align: middle;\n",
       "    }\n",
       "\n",
       "    .dataframe tbody tr th {\n",
       "        vertical-align: top;\n",
       "    }\n",
       "\n",
       "    .dataframe thead th {\n",
       "        text-align: right;\n",
       "    }\n",
       "</style>\n",
       "<table border=\"1\" class=\"dataframe\">\n",
       "  <thead>\n",
       "    <tr style=\"text-align: right;\">\n",
       "      <th></th>\n",
       "      <th>attribute</th>\n",
       "      <th>information_level</th>\n",
       "      <th>type</th>\n",
       "      <th>missing_or_unknown</th>\n",
       "    </tr>\n",
       "  </thead>\n",
       "  <tbody>\n",
       "    <tr>\n",
       "      <th>2</th>\n",
       "      <td>ANREDE_KZ</td>\n",
       "      <td>person</td>\n",
       "      <td>categorical</td>\n",
       "      <td>[-1,0]</td>\n",
       "    </tr>\n",
       "    <tr>\n",
       "      <th>3</th>\n",
       "      <td>CJT_GESAMTTYP</td>\n",
       "      <td>person</td>\n",
       "      <td>categorical</td>\n",
       "      <td>[0]</td>\n",
       "    </tr>\n",
       "    <tr>\n",
       "      <th>10</th>\n",
       "      <td>FINANZTYP</td>\n",
       "      <td>person</td>\n",
       "      <td>categorical</td>\n",
       "      <td>[-1]</td>\n",
       "    </tr>\n",
       "    <tr>\n",
       "      <th>12</th>\n",
       "      <td>GFK_URLAUBERTYP</td>\n",
       "      <td>person</td>\n",
       "      <td>categorical</td>\n",
       "      <td>[]</td>\n",
       "    </tr>\n",
       "    <tr>\n",
       "      <th>13</th>\n",
       "      <td>GREEN_AVANTGARDE</td>\n",
       "      <td>person</td>\n",
       "      <td>categorical</td>\n",
       "      <td>[]</td>\n",
       "    </tr>\n",
       "    <tr>\n",
       "      <th>17</th>\n",
       "      <td>LP_FAMILIE_FEIN</td>\n",
       "      <td>person</td>\n",
       "      <td>categorical</td>\n",
       "      <td>[0]</td>\n",
       "    </tr>\n",
       "    <tr>\n",
       "      <th>18</th>\n",
       "      <td>LP_FAMILIE_GROB</td>\n",
       "      <td>person</td>\n",
       "      <td>categorical</td>\n",
       "      <td>[0]</td>\n",
       "    </tr>\n",
       "    <tr>\n",
       "      <th>19</th>\n",
       "      <td>LP_STATUS_FEIN</td>\n",
       "      <td>person</td>\n",
       "      <td>categorical</td>\n",
       "      <td>[0]</td>\n",
       "    </tr>\n",
       "    <tr>\n",
       "      <th>20</th>\n",
       "      <td>LP_STATUS_GROB</td>\n",
       "      <td>person</td>\n",
       "      <td>categorical</td>\n",
       "      <td>[0]</td>\n",
       "    </tr>\n",
       "    <tr>\n",
       "      <th>21</th>\n",
       "      <td>NATIONALITAET_KZ</td>\n",
       "      <td>person</td>\n",
       "      <td>categorical</td>\n",
       "      <td>[-1,0]</td>\n",
       "    </tr>\n",
       "    <tr>\n",
       "      <th>38</th>\n",
       "      <td>SHOPPER_TYP</td>\n",
       "      <td>person</td>\n",
       "      <td>categorical</td>\n",
       "      <td>[-1]</td>\n",
       "    </tr>\n",
       "    <tr>\n",
       "      <th>39</th>\n",
       "      <td>SOHO_KZ</td>\n",
       "      <td>person</td>\n",
       "      <td>categorical</td>\n",
       "      <td>[-1]</td>\n",
       "    </tr>\n",
       "    <tr>\n",
       "      <th>41</th>\n",
       "      <td>VERS_TYP</td>\n",
       "      <td>person</td>\n",
       "      <td>categorical</td>\n",
       "      <td>[-1]</td>\n",
       "    </tr>\n",
       "    <tr>\n",
       "      <th>42</th>\n",
       "      <td>ZABEOTYP</td>\n",
       "      <td>person</td>\n",
       "      <td>categorical</td>\n",
       "      <td>[-1,9]</td>\n",
       "    </tr>\n",
       "    <tr>\n",
       "      <th>52</th>\n",
       "      <td>GEBAEUDETYP</td>\n",
       "      <td>building</td>\n",
       "      <td>categorical</td>\n",
       "      <td>[-1,0]</td>\n",
       "    </tr>\n",
       "    <tr>\n",
       "      <th>55</th>\n",
       "      <td>OST_WEST_KZ</td>\n",
       "      <td>building</td>\n",
       "      <td>categorical</td>\n",
       "      <td>[-1]</td>\n",
       "    </tr>\n",
       "    <tr>\n",
       "      <th>57</th>\n",
       "      <td>CAMEO_DEUG_2015</td>\n",
       "      <td>microcell_rr4</td>\n",
       "      <td>categorical</td>\n",
       "      <td>[-1,X]</td>\n",
       "    </tr>\n",
       "    <tr>\n",
       "      <th>58</th>\n",
       "      <td>CAMEO_DEU_2015</td>\n",
       "      <td>microcell_rr4</td>\n",
       "      <td>categorical</td>\n",
       "      <td>[XX]</td>\n",
       "    </tr>\n",
       "  </tbody>\n",
       "</table>\n",
       "</div>"
      ],
      "text/plain": [
       "           attribute information_level         type missing_or_unknown\n",
       "2          ANREDE_KZ            person  categorical             [-1,0]\n",
       "3      CJT_GESAMTTYP            person  categorical                [0]\n",
       "10         FINANZTYP            person  categorical               [-1]\n",
       "12   GFK_URLAUBERTYP            person  categorical                 []\n",
       "13  GREEN_AVANTGARDE            person  categorical                 []\n",
       "17   LP_FAMILIE_FEIN            person  categorical                [0]\n",
       "18   LP_FAMILIE_GROB            person  categorical                [0]\n",
       "19    LP_STATUS_FEIN            person  categorical                [0]\n",
       "20    LP_STATUS_GROB            person  categorical                [0]\n",
       "21  NATIONALITAET_KZ            person  categorical             [-1,0]\n",
       "38       SHOPPER_TYP            person  categorical               [-1]\n",
       "39           SOHO_KZ            person  categorical               [-1]\n",
       "41          VERS_TYP            person  categorical               [-1]\n",
       "42          ZABEOTYP            person  categorical             [-1,9]\n",
       "52       GEBAEUDETYP          building  categorical             [-1,0]\n",
       "55       OST_WEST_KZ          building  categorical               [-1]\n",
       "57   CAMEO_DEUG_2015     microcell_rr4  categorical             [-1,X]\n",
       "58    CAMEO_DEU_2015     microcell_rr4  categorical               [XX]"
      ]
     },
     "execution_count": 31,
     "metadata": {},
     "output_type": "execute_result"
    }
   ],
   "source": [
    "# Assess categorical variables: which are binary, which are multi-level, and\n",
    "# which one needs to be re-encoded?\n",
    "categorical_feat = feat_info_missing[feat_info_missing.type == 'categorical']\n",
    "categorical_feat\n"
   ]
  },
  {
   "cell_type": "code",
   "execution_count": 32,
   "metadata": {},
   "outputs": [],
   "source": [
    "binary_integer_columns=[]\n",
    "binary_columns=[]\n",
    "multi_level_columns=[]\n",
    "for category_columns in categorical_feat.attribute.value_counts().index:\n",
    "    if len(azdias_few_missing[category_columns].value_counts()) > 2:\n",
    "        multi_level_columns.append(category_columns)\n",
    "    elif (azdias_few_missing[category_columns].dtype == object):\n",
    "        binary_columns.append(category_columns)\n",
    "    else:\n",
    "        binary_integer_columns.append(category_columns)"
   ]
  },
  {
   "cell_type": "code",
   "execution_count": 33,
   "metadata": {},
   "outputs": [
    {
     "data": {
      "text/plain": [
       "['SOHO_KZ', 'ANREDE_KZ', 'VERS_TYP', 'GREEN_AVANTGARDE']"
      ]
     },
     "execution_count": 33,
     "metadata": {},
     "output_type": "execute_result"
    }
   ],
   "source": [
    "binary_integer_columns"
   ]
  },
  {
   "cell_type": "code",
   "execution_count": 34,
   "metadata": {},
   "outputs": [
    {
     "data": {
      "text/plain": [
       "['OST_WEST_KZ']"
      ]
     },
     "execution_count": 34,
     "metadata": {},
     "output_type": "execute_result"
    }
   ],
   "source": [
    "binary_columns"
   ]
  },
  {
   "cell_type": "code",
   "execution_count": 35,
   "metadata": {},
   "outputs": [
    {
     "data": {
      "text/plain": [
       "['GFK_URLAUBERTYP',\n",
       " 'LP_STATUS_FEIN',\n",
       " 'FINANZTYP',\n",
       " 'SHOPPER_TYP',\n",
       " 'CJT_GESAMTTYP',\n",
       " 'NATIONALITAET_KZ',\n",
       " 'LP_STATUS_GROB',\n",
       " 'GEBAEUDETYP',\n",
       " 'LP_FAMILIE_FEIN',\n",
       " 'CAMEO_DEUG_2015',\n",
       " 'LP_FAMILIE_GROB',\n",
       " 'ZABEOTYP',\n",
       " 'CAMEO_DEU_2015']"
      ]
     },
     "execution_count": 35,
     "metadata": {},
     "output_type": "execute_result"
    }
   ],
   "source": [
    "multi_level_columns"
   ]
  },
  {
   "cell_type": "code",
   "execution_count": 36,
   "metadata": {},
   "outputs": [
    {
     "name": "stdout",
     "output_type": "stream",
     "text": [
      "0.0    790370\n",
      "1.0      6707\n",
      "Name: SOHO_KZ, dtype: int64\n",
      "2    415578\n",
      "1    381499\n",
      "Name: ANREDE_KZ, dtype: int64\n",
      "2.0    394116\n",
      "1.0    366623\n",
      "Name: VERS_TYP, dtype: int64\n",
      "0    621942\n",
      "1    175135\n",
      "Name: GREEN_AVANTGARDE, dtype: int64\n",
      "W    628695\n",
      "O    168382\n",
      "Name: OST_WEST_KZ, dtype: int64\n"
     ]
    }
   ],
   "source": [
    "for column in binary_integer_columns:\n",
    "    print(azdias_few_missing[column].value_counts())\n",
    "print(azdias_few_missing[binary_columns[0]].value_counts())"
   ]
  },
  {
   "cell_type": "code",
   "execution_count": 37,
   "metadata": {},
   "outputs": [],
   "source": [
    "# Re-encode categorical variable(s) to be kept in the analysis.\n",
    "# Re-encode binary columns\n",
    "azdias_few_missing['VERS_TYP'].replace([2.0, 1.0], [1, 0], inplace=True)\n",
    "azdias_few_missing['OST_WEST_KZ'].replace(['W', 'O'], [1, 0], inplace=True)\n",
    "azdias_few_missing['ANREDE_KZ'].replace([2, 1], [1, 0], inplace=True)\n"
   ]
  },
  {
   "cell_type": "code",
   "execution_count": 38,
   "metadata": {},
   "outputs": [
    {
     "name": "stdout",
     "output_type": "stream",
     "text": [
      "0.0    790370\n",
      "1.0      6707\n",
      "Name: SOHO_KZ, dtype: int64\n",
      "1    415578\n",
      "0    381499\n",
      "Name: ANREDE_KZ, dtype: int64\n",
      "1.0    394116\n",
      "0.0    366623\n",
      "Name: VERS_TYP, dtype: int64\n",
      "0    621942\n",
      "1    175135\n",
      "Name: GREEN_AVANTGARDE, dtype: int64\n",
      "1    628695\n",
      "0    168382\n",
      "Name: OST_WEST_KZ, dtype: int64\n"
     ]
    }
   ],
   "source": [
    "#Test\n",
    "for column in binary_integer_columns:\n",
    "    print(azdias_few_missing[column].value_counts())\n",
    "print(azdias_few_missing[binary_columns[0]].value_counts())"
   ]
  },
  {
   "cell_type": "code",
   "execution_count": 39,
   "metadata": {},
   "outputs": [],
   "source": [
    "# Encode the multi-level columns using multiple dummy variables\n",
    "azdias_few_missing = pd.get_dummies(azdias_few_missing, columns=multi_level_columns)"
   ]
  },
  {
   "cell_type": "code",
   "execution_count": 40,
   "metadata": {},
   "outputs": [
    {
     "data": {
      "text/plain": [
       "(797077, 194)"
      ]
     },
     "execution_count": 40,
     "metadata": {},
     "output_type": "execute_result"
    }
   ],
   "source": [
    "azdias_few_missing.shape"
   ]
  },
  {
   "cell_type": "markdown",
   "metadata": {},
   "source": [
    "#### Discussion 1.2.1: Re-Encode Categorical Features\n",
    "\n",
    "- Three binary (two-level) categoricals that take numeric values, two of them were re-encoded to (0,1) instead of (1,2)\n",
    "- One binary variable that takes on non-numeric values which is OST_WEST_KZ was re-encoded using numers(0,1)\n",
    "- Thirteen multi-level categoricals was encoded using multiple dummy variables\n",
    "- I choose to not to drop any multi-level from analysis as I feel it will be important in clustering when it comes to using unsupervised learning techniques"
   ]
  },
  {
   "cell_type": "markdown",
   "metadata": {},
   "source": [
    "#### Step 1.2.2: Engineer Mixed-Type Features\n",
    "\n",
    "There are a handful of features that are marked as \"mixed\" in the feature summary that require special treatment in order to be included in the analysis. There are two in particular that deserve attention; the handling of the rest are up to your own choices:\n",
    "- \"PRAEGENDE_JUGENDJAHRE\" combines information on three dimensions: generation by decade, movement (mainstream vs. avantgarde), and nation (east vs. west). While there aren't enough levels to disentangle east from west, you should create two new variables to capture the other two dimensions: an interval-type variable for decade, and a binary variable for movement.\n",
    "- \"CAMEO_INTL_2015\" combines information on two axes: wealth and life stage. Break up the two-digit codes by their 'tens'-place and 'ones'-place digits into two new ordinal variables (which, for the purposes of this project, is equivalent to just treating them as their raw numeric values).\n",
    "- If you decide to keep or engineer new features around the other mixed-type features, make sure you note your steps in the Discussion section.\n",
    "\n",
    "Be sure to check `Data_Dictionary.md` for the details needed to finish these tasks."
   ]
  },
  {
   "cell_type": "code",
   "execution_count": 41,
   "metadata": {},
   "outputs": [
    {
     "data": {
      "text/html": [
       "<div>\n",
       "<style scoped>\n",
       "    .dataframe tbody tr th:only-of-type {\n",
       "        vertical-align: middle;\n",
       "    }\n",
       "\n",
       "    .dataframe tbody tr th {\n",
       "        vertical-align: top;\n",
       "    }\n",
       "\n",
       "    .dataframe thead th {\n",
       "        text-align: right;\n",
       "    }\n",
       "</style>\n",
       "<table border=\"1\" class=\"dataframe\">\n",
       "  <thead>\n",
       "    <tr style=\"text-align: right;\">\n",
       "      <th></th>\n",
       "      <th>attribute</th>\n",
       "      <th>information_level</th>\n",
       "      <th>type</th>\n",
       "      <th>missing_or_unknown</th>\n",
       "    </tr>\n",
       "  </thead>\n",
       "  <tbody>\n",
       "    <tr>\n",
       "      <th>15</th>\n",
       "      <td>LP_LEBENSPHASE_FEIN</td>\n",
       "      <td>person</td>\n",
       "      <td>mixed</td>\n",
       "      <td>[0]</td>\n",
       "    </tr>\n",
       "    <tr>\n",
       "      <th>16</th>\n",
       "      <td>LP_LEBENSPHASE_GROB</td>\n",
       "      <td>person</td>\n",
       "      <td>mixed</td>\n",
       "      <td>[0]</td>\n",
       "    </tr>\n",
       "    <tr>\n",
       "      <th>22</th>\n",
       "      <td>PRAEGENDE_JUGENDJAHRE</td>\n",
       "      <td>person</td>\n",
       "      <td>mixed</td>\n",
       "      <td>[-1,0]</td>\n",
       "    </tr>\n",
       "    <tr>\n",
       "      <th>56</th>\n",
       "      <td>WOHNLAGE</td>\n",
       "      <td>building</td>\n",
       "      <td>mixed</td>\n",
       "      <td>[-1]</td>\n",
       "    </tr>\n",
       "    <tr>\n",
       "      <th>59</th>\n",
       "      <td>CAMEO_INTL_2015</td>\n",
       "      <td>microcell_rr4</td>\n",
       "      <td>mixed</td>\n",
       "      <td>[-1,XX]</td>\n",
       "    </tr>\n",
       "    <tr>\n",
       "      <th>79</th>\n",
       "      <td>PLZ8_BAUMAX</td>\n",
       "      <td>macrocell_plz8</td>\n",
       "      <td>mixed</td>\n",
       "      <td>[-1,0]</td>\n",
       "    </tr>\n",
       "  </tbody>\n",
       "</table>\n",
       "</div>"
      ],
      "text/plain": [
       "                attribute information_level   type missing_or_unknown\n",
       "15    LP_LEBENSPHASE_FEIN            person  mixed                [0]\n",
       "16    LP_LEBENSPHASE_GROB            person  mixed                [0]\n",
       "22  PRAEGENDE_JUGENDJAHRE            person  mixed             [-1,0]\n",
       "56               WOHNLAGE          building  mixed               [-1]\n",
       "59        CAMEO_INTL_2015     microcell_rr4  mixed            [-1,XX]\n",
       "79            PLZ8_BAUMAX    macrocell_plz8  mixed             [-1,0]"
      ]
     },
     "execution_count": 41,
     "metadata": {},
     "output_type": "execute_result"
    }
   ],
   "source": [
    "# Investigation of mixed features\n",
    "mixed_feat = feat_info_missing[feat_info_missing.type == 'mixed']\n",
    "mixed_feat"
   ]
  },
  {
   "cell_type": "code",
   "execution_count": 42,
   "metadata": {},
   "outputs": [
    {
     "data": {
      "text/plain": [
       "14.0    182833\n",
       "8.0     141504\n",
       "10.0     85746\n",
       "5.0      84649\n",
       "3.0      53811\n",
       "15.0     42500\n",
       "11.0     35729\n",
       "9.0      33560\n",
       "6.0      25649\n",
       "12.0     24436\n",
       "1.0      20639\n",
       "4.0      20450\n",
       "2.0       7479\n",
       "13.0      5759\n",
       "7.0       4009\n",
       "Name: PRAEGENDE_JUGENDJAHRE, dtype: int64"
      ]
     },
     "execution_count": 42,
     "metadata": {},
     "output_type": "execute_result"
    }
   ],
   "source": [
    "azdias_few_missing['PRAEGENDE_JUGENDJAHRE'].value_counts()"
   ]
  },
  {
   "cell_type": "code",
   "execution_count": 43,
   "metadata": {},
   "outputs": [],
   "source": [
    "# Investigate \"PRAEGENDE_JUGENDJAHRE\" and engineer two new variables.\n",
    "\n",
    "generation = {0: [1,2],\n",
    "              1: [3,4],\n",
    "              2: [5,6,7],\n",
    "              3: [8,9],\n",
    "              4: [10,11,12,13],\n",
    "              5: [14,15]}\n",
    "\n",
    "avantgarde = [2, 4, 6, 7, 9, 11, 13, 15]\n",
    "mainstream = [1, 3, 5, 8, 10, 12, 14]\n",
    "\n",
    "def generations(value):\n",
    "    if (np.isnan(value)):\n",
    "        return np.nan\n",
    "    else:\n",
    "        for key, values in generation.items():\n",
    "            if (value in values):\n",
    "                return key\n",
    "\n",
    "def movement(value):\n",
    "        if (value in avantgarde):\n",
    "            return 1\n",
    "        elif (value in mainstream):\n",
    "            return 0\n",
    "        else:\n",
    "            return np.nan\n",
    "            \n",
    "\n"
   ]
  },
  {
   "cell_type": "code",
   "execution_count": 44,
   "metadata": {},
   "outputs": [],
   "source": [
    "azdias_few_missing['PRAEGENDE_JUGENDJAHRE_GENERATIONS'] = azdias_few_missing['PRAEGENDE_JUGENDJAHRE'].apply(generations)\n",
    "azdias_few_missing['PRAEGENDE_JUGENDJAHRE_MOVEMENT'] = azdias_few_missing['PRAEGENDE_JUGENDJAHRE'].apply(movement)"
   ]
  },
  {
   "cell_type": "code",
   "execution_count": 45,
   "metadata": {},
   "outputs": [
    {
     "data": {
      "text/plain": [
       "dtype('O')"
      ]
     },
     "execution_count": 45,
     "metadata": {},
     "output_type": "execute_result"
    }
   ],
   "source": [
    "# Investigate \"CAMEO_INTL_2015\" and engineer two new variables.\n",
    "\n",
    "azdias_few_missing['CAMEO_INTL_2015'].dtype"
   ]
  },
  {
   "cell_type": "code",
   "execution_count": 46,
   "metadata": {},
   "outputs": [],
   "source": [
    "# Rengineer \"CAMEO_INTL_2015\" to two new variables\n",
    "# wealth will be 'tens'-place\n",
    "\n",
    "def wealth(value):\n",
    "    # Since \"CAMEO_INTL_2015\" is an object dtype and NaNs are floats therefore change its type to float for isnan check\n",
    "    value = float(value) \n",
    "    if (np.isnan(value)):\n",
    "        return np.nan\n",
    "    else:\n",
    "        return int(str(value)[0])\n",
    "\n",
    "#life stage will be 'ones'-place\n",
    "\n",
    "def life_stage(value):\n",
    "    value = float(value)\n",
    "    if (np.isnan(value)):\n",
    "        return np.nan\n",
    "    else:\n",
    "        return int(str(value)[1])"
   ]
  },
  {
   "cell_type": "code",
   "execution_count": 47,
   "metadata": {},
   "outputs": [],
   "source": [
    "azdias_few_missing['CAMEO_INTL_2015_WEALTH'] = azdias_few_missing['CAMEO_INTL_2015'].apply(wealth)\n",
    "azdias_few_missing['CAMEO_INTL_2015_LIFE_STAGE'] = azdias_few_missing['CAMEO_INTL_2015'].apply(life_stage)"
   ]
  },
  {
   "cell_type": "code",
   "execution_count": 48,
   "metadata": {},
   "outputs": [
    {
     "name": "stdout",
     "output_type": "stream",
     "text": [
      "<class 'pandas.core.frame.DataFrame'>\n",
      "Int64Index: 797077 entries, 1 to 891220\n",
      "Columns: 198 entries, ALTERSKATEGORIE_GROB to CAMEO_INTL_2015_LIFE_STAGE\n",
      "dtypes: float64(46), int64(23), object(1), uint8(128)\n",
      "memory usage: 529.1+ MB\n"
     ]
    }
   ],
   "source": [
    "# Pre-check before dropping\n",
    "azdias_few_missing.info()"
   ]
  },
  {
   "cell_type": "code",
   "execution_count": 49,
   "metadata": {},
   "outputs": [],
   "source": [
    "# Drop all mixed features from our dataset\n",
    "azdias_few_missing = azdias_few_missing.drop(columns=mixed_feat.attribute.values)"
   ]
  },
  {
   "cell_type": "code",
   "execution_count": 50,
   "metadata": {},
   "outputs": [
    {
     "name": "stdout",
     "output_type": "stream",
     "text": [
      "<class 'pandas.core.frame.DataFrame'>\n",
      "Int64Index: 797077 entries, 1 to 891220\n",
      "Columns: 192 entries, ALTERSKATEGORIE_GROB to CAMEO_INTL_2015_LIFE_STAGE\n",
      "dtypes: float64(41), int64(23), uint8(128)\n",
      "memory usage: 492.6 MB\n"
     ]
    }
   ],
   "source": [
    "# Check after dropping\n",
    "azdias_few_missing.info()"
   ]
  },
  {
   "cell_type": "markdown",
   "metadata": {},
   "source": [
    "#### Discussion 1.2.2: Engineer Mixed-Type Features\n",
    "\n",
    "- I Re-engineered \"PRAEGENDE_JUGENDJAHRE\" to two new variables which was generations an interval variable and movements a binary variable, as it has provided two informations from one variable only which disobeys what a tidy data should be (each column represent one variable) and then dropped this column as it will be useless.\n",
    "- Same goes for \"CAMEO_INTL_2015\" it was re-engineered to two new ordinal variables was wealth and life stage and then dropped this column as it will be useless.\n",
    "- I choose to drop the rest of the mixed features columns as I felt that provides similar informations such as other columns and to make use of these messy columns will require more understanding of these columns and reengineering which will unnecessary waste of time. A more precise check can be made, which is to check correlation of these mixed features with other features to see whether they provide new or similar information (won't do this check for the sake of time)."
   ]
  },
  {
   "cell_type": "markdown",
   "metadata": {},
   "source": [
    "#### Step 1.2.3: Complete Feature Selection\n",
    "\n",
    "In order to finish this step up, you need to make sure that your data frame now only has the columns that you want to keep. To summarize, the dataframe should consist of the following:\n",
    "- All numeric, interval, and ordinal type columns from the original dataset.\n",
    "- Binary categorical features (all numerically-encoded).\n",
    "- Engineered features from other multi-level categorical features and mixed features.\n",
    "\n",
    "Make sure that for any new columns that you have engineered, that you've excluded the original columns from the final dataset. Otherwise, their values will interfere with the analysis later on the project. For example, you should not keep \"PRAEGENDE_JUGENDJAHRE\", since its values won't be useful for the algorithm: only the values derived from it in the engineered features you created should be retained. As a reminder, your data should only be from **the subset with few or no missing values**."
   ]
  },
  {
   "cell_type": "code",
   "execution_count": 51,
   "metadata": {},
   "outputs": [],
   "source": [
    "# If there are other re-engineering tasks you need to perform, make sure you\n",
    "# take care of them here. (Dealing with missing data will come in step 2.1.)\n"
   ]
  },
  {
   "cell_type": "code",
   "execution_count": 52,
   "metadata": {},
   "outputs": [
    {
     "name": "stdout",
     "output_type": "stream",
     "text": [
      "<class 'pandas.core.frame.DataFrame'>\n",
      "Int64Index: 797077 entries, 1 to 891220\n",
      "Columns: 192 entries, ALTERSKATEGORIE_GROB to CAMEO_INTL_2015_LIFE_STAGE\n",
      "dtypes: float64(41), int64(23), uint8(128)\n",
      "memory usage: 492.6 MB\n"
     ]
    }
   ],
   "source": [
    "# Do whatever you need to in order to ensure that the dataframe only contains\n",
    "# the columns that should be passed to the algorithm functions.\n",
    "\n",
    "azdias_few_missing.info()"
   ]
  },
  {
   "cell_type": "code",
   "execution_count": 53,
   "metadata": {},
   "outputs": [
    {
     "data": {
      "text/html": [
       "<div>\n",
       "<style scoped>\n",
       "    .dataframe tbody tr th:only-of-type {\n",
       "        vertical-align: middle;\n",
       "    }\n",
       "\n",
       "    .dataframe tbody tr th {\n",
       "        vertical-align: top;\n",
       "    }\n",
       "\n",
       "    .dataframe thead th {\n",
       "        text-align: right;\n",
       "    }\n",
       "</style>\n",
       "<table border=\"1\" class=\"dataframe\">\n",
       "  <thead>\n",
       "    <tr style=\"text-align: right;\">\n",
       "      <th></th>\n",
       "      <th>ALTERSKATEGORIE_GROB</th>\n",
       "      <th>ANREDE_KZ</th>\n",
       "      <th>FINANZ_MINIMALIST</th>\n",
       "      <th>FINANZ_SPARER</th>\n",
       "      <th>FINANZ_VORSORGER</th>\n",
       "      <th>FINANZ_ANLEGER</th>\n",
       "      <th>FINANZ_UNAUFFAELLIGER</th>\n",
       "      <th>FINANZ_HAUSBAUER</th>\n",
       "      <th>GREEN_AVANTGARDE</th>\n",
       "      <th>HEALTH_TYP</th>\n",
       "      <th>...</th>\n",
       "      <th>CAMEO_DEU_2015_8D</th>\n",
       "      <th>CAMEO_DEU_2015_9A</th>\n",
       "      <th>CAMEO_DEU_2015_9B</th>\n",
       "      <th>CAMEO_DEU_2015_9C</th>\n",
       "      <th>CAMEO_DEU_2015_9D</th>\n",
       "      <th>CAMEO_DEU_2015_9E</th>\n",
       "      <th>PRAEGENDE_JUGENDJAHRE_GENERATIONS</th>\n",
       "      <th>PRAEGENDE_JUGENDJAHRE_MOVEMENT</th>\n",
       "      <th>CAMEO_INTL_2015_WEALTH</th>\n",
       "      <th>CAMEO_INTL_2015_LIFE_STAGE</th>\n",
       "    </tr>\n",
       "  </thead>\n",
       "  <tbody>\n",
       "    <tr>\n",
       "      <th>1</th>\n",
       "      <td>1.0</td>\n",
       "      <td>1</td>\n",
       "      <td>1</td>\n",
       "      <td>5</td>\n",
       "      <td>2</td>\n",
       "      <td>5</td>\n",
       "      <td>4</td>\n",
       "      <td>5</td>\n",
       "      <td>0</td>\n",
       "      <td>3.0</td>\n",
       "      <td>...</td>\n",
       "      <td>0</td>\n",
       "      <td>0</td>\n",
       "      <td>0</td>\n",
       "      <td>0</td>\n",
       "      <td>0</td>\n",
       "      <td>0</td>\n",
       "      <td>5.0</td>\n",
       "      <td>0.0</td>\n",
       "      <td>5.0</td>\n",
       "      <td>1.0</td>\n",
       "    </tr>\n",
       "    <tr>\n",
       "      <th>2</th>\n",
       "      <td>3.0</td>\n",
       "      <td>1</td>\n",
       "      <td>1</td>\n",
       "      <td>4</td>\n",
       "      <td>1</td>\n",
       "      <td>2</td>\n",
       "      <td>3</td>\n",
       "      <td>5</td>\n",
       "      <td>1</td>\n",
       "      <td>3.0</td>\n",
       "      <td>...</td>\n",
       "      <td>0</td>\n",
       "      <td>0</td>\n",
       "      <td>0</td>\n",
       "      <td>0</td>\n",
       "      <td>0</td>\n",
       "      <td>0</td>\n",
       "      <td>5.0</td>\n",
       "      <td>1.0</td>\n",
       "      <td>2.0</td>\n",
       "      <td>4.0</td>\n",
       "    </tr>\n",
       "    <tr>\n",
       "      <th>3</th>\n",
       "      <td>4.0</td>\n",
       "      <td>1</td>\n",
       "      <td>4</td>\n",
       "      <td>2</td>\n",
       "      <td>5</td>\n",
       "      <td>2</td>\n",
       "      <td>1</td>\n",
       "      <td>2</td>\n",
       "      <td>0</td>\n",
       "      <td>2.0</td>\n",
       "      <td>...</td>\n",
       "      <td>0</td>\n",
       "      <td>0</td>\n",
       "      <td>0</td>\n",
       "      <td>0</td>\n",
       "      <td>0</td>\n",
       "      <td>0</td>\n",
       "      <td>3.0</td>\n",
       "      <td>0.0</td>\n",
       "      <td>1.0</td>\n",
       "      <td>2.0</td>\n",
       "    </tr>\n",
       "  </tbody>\n",
       "</table>\n",
       "<p>3 rows × 192 columns</p>\n",
       "</div>"
      ],
      "text/plain": [
       "   ALTERSKATEGORIE_GROB  ANREDE_KZ  FINANZ_MINIMALIST  FINANZ_SPARER  \\\n",
       "1                   1.0          1                  1              5   \n",
       "2                   3.0          1                  1              4   \n",
       "3                   4.0          1                  4              2   \n",
       "\n",
       "   FINANZ_VORSORGER  FINANZ_ANLEGER  FINANZ_UNAUFFAELLIGER  FINANZ_HAUSBAUER  \\\n",
       "1                 2               5                      4                 5   \n",
       "2                 1               2                      3                 5   \n",
       "3                 5               2                      1                 2   \n",
       "\n",
       "   GREEN_AVANTGARDE  HEALTH_TYP             ...              \\\n",
       "1                 0         3.0             ...               \n",
       "2                 1         3.0             ...               \n",
       "3                 0         2.0             ...               \n",
       "\n",
       "   CAMEO_DEU_2015_8D  CAMEO_DEU_2015_9A  CAMEO_DEU_2015_9B  CAMEO_DEU_2015_9C  \\\n",
       "1                  0                  0                  0                  0   \n",
       "2                  0                  0                  0                  0   \n",
       "3                  0                  0                  0                  0   \n",
       "\n",
       "   CAMEO_DEU_2015_9D  CAMEO_DEU_2015_9E  PRAEGENDE_JUGENDJAHRE_GENERATIONS  \\\n",
       "1                  0                  0                                5.0   \n",
       "2                  0                  0                                5.0   \n",
       "3                  0                  0                                3.0   \n",
       "\n",
       "   PRAEGENDE_JUGENDJAHRE_MOVEMENT  CAMEO_INTL_2015_WEALTH  \\\n",
       "1                             0.0                     5.0   \n",
       "2                             1.0                     2.0   \n",
       "3                             0.0                     1.0   \n",
       "\n",
       "   CAMEO_INTL_2015_LIFE_STAGE  \n",
       "1                         1.0  \n",
       "2                         4.0  \n",
       "3                         2.0  \n",
       "\n",
       "[3 rows x 192 columns]"
      ]
     },
     "execution_count": 53,
     "metadata": {},
     "output_type": "execute_result"
    }
   ],
   "source": [
    "azdias_few_missing.head(3)"
   ]
  },
  {
   "cell_type": "markdown",
   "metadata": {},
   "source": [
    "### Step 1.3: Create a Cleaning Function\n",
    "\n",
    "Even though you've finished cleaning up the general population demographics data, it's important to look ahead to the future and realize that you'll need to perform the same cleaning steps on the customer demographics data. In this substep, complete the function below to execute the main feature selection, encoding, and re-engineering steps you performed above. Then, when it comes to looking at the customer data in Step 3, you can just run this function on that DataFrame to get the trimmed dataset in a single step."
   ]
  },
  {
   "cell_type": "code",
   "execution_count": 54,
   "metadata": {},
   "outputs": [],
   "source": [
    "def clean_data(azdias, feat_info):\n",
    "    \"\"\"\n",
    "    Perform feature trimming, re-encoding, and engineering for demographics\n",
    "    data\n",
    "    \n",
    "    INPUT: Demographics DataFrame\n",
    "    OUTPUT: Trimmed and cleaned demographics DataFrame\n",
    "    \"\"\"\n",
    "    \n",
    "    azdias_missing = azdias\n",
    "    # Identify missing or unknown data values and convert them to NaNs.\n",
    "    for i in range(feat_info.shape[0]):\n",
    "        missing = feat_info.missing_or_unknown.iloc[i]\n",
    "        attribute_column_name = feat_info.attribute.iloc[i]\n",
    "        missing = missing[1:-1]\n",
    "        if(len(missing) == 0):\n",
    "            azdias_missing[attribute_column_name] = azdias_missing[attribute_column_name].replace(missing,np.nan)\n",
    "        elif(len(missing) != 0):\n",
    "            missing = missing.split(',')\n",
    "            for j in range(len(missing)):\n",
    "                if(azdias_missing[attribute_column_name].dtype == np.float64):\n",
    "                    azdias_missing[attribute_column_name] = azdias_missing[attribute_column_name].replace(float(missing[j]),np.nan)\n",
    "                elif(azdias_missing[attribute_column_name].dtype == np.int64):\n",
    "                    azdias_missing[attribute_column_name] = azdias_missing[attribute_column_name].replace(int(missing[j]),np.nan)\n",
    "                \n",
    "                else:\n",
    "                    azdias_missing[attribute_column_name] = azdias_missing[attribute_column_name].replace(missing[j],np.nan)\n",
    "    \n",
    "    # Analyzed outlier columns with most missing values\n",
    "    outlier_columns = ['AGER_TYP', 'KK_KUNDENTYP','TITEL_KZ', 'KBA05_BAUMAX','GEBURTSJAHR','ALTER_HH']\n",
    "    azdias_missing = azdias_missing.drop(outlier_columns, axis=1)\n",
    "    \n",
    "    # Write code to divide the data into two subsets based on the number of missing\n",
    "    # values in each row.\n",
    "    n_missing_rows = azdias_missing.isna().sum(axis=1)\n",
    "    n_missing_rows_high = n_missing_rows[n_missing_rows > 20]\n",
    "    n_missing_rows_low = n_missing_rows[n_missing_rows < 20]\n",
    "    \n",
    "    # Drop high missing rows\n",
    "    azdias_few_missing = azdias_missing.copy()\n",
    "    azdias_few_missing = azdias_few_missing.iloc[n_missing_rows_low.index,:]\n",
    "    feat_info_missing = feat_info\n",
    "    feat_info_missing = feat_info_missing[~feat_info_missing.attribute.isin(outlier_columns)]\n",
    "    \n",
    "    # Identify binary and multi-level columns\n",
    "    categorical_feat = feat_info_missing[feat_info_missing.type == 'categorical']\n",
    "    binary_integer_columns=[]\n",
    "    binary_columns=[]\n",
    "    multi_level_columns=[]\n",
    "    for category_columns in categorical_feat.attribute.value_counts().index:\n",
    "        if len(azdias_few_missing[category_columns].value_counts()) > 2:\n",
    "            multi_level_columns.append(category_columns)\n",
    "        elif (azdias_few_missing[category_columns].dtype == object):\n",
    "            binary_columns.append(category_columns)\n",
    "        else:\n",
    "            binary_integer_columns.append(category_columns)\n",
    "    \n",
    "    # Re-encode binary columns\n",
    "    azdias_few_missing['VERS_TYP'].replace([2.0, 1.0], [1, 0], inplace=True)\n",
    "    azdias_few_missing['OST_WEST_KZ'].replace(['W', 'O'], [1, 0], inplace=True)\n",
    "    azdias_few_missing['ANREDE_KZ'].replace([2, 1], [1, 0], inplace=True)\n",
    "    \n",
    "    # Encode the multi-level columns using multiple dummy variables\n",
    "    azdias_few_missing = pd.get_dummies(azdias_few_missing, columns=multi_level_columns)\n",
    "    \n",
    "    # Rengineer \"PRAEGENDE_JUGENDJAHRE\" to two new variables\n",
    "    azdias_few_missing['PRAEGENDE_JUGENDJAHRE_GENERATIONS'] = azdias_few_missing['PRAEGENDE_JUGENDJAHRE'].apply(generations)\n",
    "    azdias_few_missing['PRAEGENDE_JUGENDJAHRE_MOVEMENT'] = azdias_few_missing['PRAEGENDE_JUGENDJAHRE'].apply(movement)\n",
    "    \n",
    "    # Rengineer \"CAMEO_INTL_2015\" to two new variables\n",
    "    azdias_few_missing['CAMEO_INTL_2015_WEALTH'] = azdias_few_missing['CAMEO_INTL_2015'].apply(wealth)\n",
    "    azdias_few_missing['CAMEO_INTL_2015_LIFE_STAGE'] = azdias_few_missing['CAMEO_INTL_2015'].apply(life_stage)\n",
    "    \n",
    "    # Drop all mixed features from our dataset\n",
    "    mixed_feat = feat_info_missing[feat_info_missing.type == 'mixed']\n",
    "    azdias_few_missing = azdias_few_missing.drop(columns=mixed_feat.attribute.values)\n",
    "\n",
    "    return azdias_few_missing"
   ]
  },
  {
   "cell_type": "code",
   "execution_count": 55,
   "metadata": {},
   "outputs": [
    {
     "name": "stdout",
     "output_type": "stream",
     "text": [
      "<class 'pandas.core.frame.DataFrame'>\n",
      "Int64Index: 797077 entries, 1 to 891220\n",
      "Columns: 192 entries, ALTERSKATEGORIE_GROB to CAMEO_INTL_2015_LIFE_STAGE\n",
      "dtypes: float64(41), int64(23), uint8(128)\n",
      "memory usage: 492.6 MB\n"
     ]
    }
   ],
   "source": [
    "# Test clean_data function\n",
    "azdias_using_clean_function = clean_data(azdias, feat_info)\n",
    "azdias_using_clean_function.info()"
   ]
  },
  {
   "cell_type": "code",
   "execution_count": 56,
   "metadata": {},
   "outputs": [
    {
     "data": {
      "text/plain": [
       "True"
      ]
     },
     "execution_count": 56,
     "metadata": {},
     "output_type": "execute_result"
    }
   ],
   "source": [
    "# Check if azdias_few_missing that I Cleaned before is exactly equal to the one output from clean_data function\n",
    "azdias_few_missing.equals(azdias_using_clean_function)"
   ]
  },
  {
   "cell_type": "markdown",
   "metadata": {},
   "source": [
    "## Step 2: Feature Transformation\n",
    "\n",
    "### Step 2.1: Apply Feature Scaling\n",
    "\n",
    "Before we apply dimensionality reduction techniques to the data, we need to perform feature scaling so that the principal component vectors are not influenced by the natural differences in scale for features. Starting from this part of the project, you'll want to keep an eye on the [API reference page for sklearn](http://scikit-learn.org/stable/modules/classes.html) to help you navigate to all of the classes and functions that you'll need. In this substep, you'll need to check the following:\n",
    "\n",
    "- sklearn requires that data not have missing values in order for its estimators to work properly. So, before applying the scaler to your data, make sure that you've cleaned the DataFrame of the remaining missing values. This can be as simple as just removing all data points with missing data, or applying an [Imputer](https://scikit-learn.org/0.16/modules/generated/sklearn.preprocessing.Imputer.html) to replace all missing values. You might also try a more complicated procedure where you temporarily remove missing values in order to compute the scaling parameters before re-introducing those missing values and applying imputation. Think about how much missing data you have and what possible effects each approach might have on your analysis, and justify your decision in the discussion section below.\n",
    "- For the actual scaling function, a [StandardScaler](http://scikit-learn.org/stable/modules/generated/sklearn.preprocessing.StandardScaler.html) instance is suggested, scaling each feature to mean 0 and standard deviation 1.\n",
    "- For these classes, you can make use of the `.fit_transform()` method to both fit a procedure to the data as well as apply the transformation to the data at the same time. Don't forget to keep the fit sklearn objects handy, since you'll be applying them to the customer demographics data towards the end of the project."
   ]
  },
  {
   "cell_type": "code",
   "execution_count": 57,
   "metadata": {},
   "outputs": [
    {
     "data": {
      "text/plain": [
       "array([ True, False, False, False, False, False, False, False, False,\n",
       "        True,  True, False, False, False, False, False, False, False,\n",
       "       False, False, False, False, False, False, False, False,  True,\n",
       "       False, False, False,  True, False,  True,  True,  True, False,\n",
       "       False,  True,  True,  True,  True,  True,  True,  True,  True,\n",
       "        True,  True,  True,  True,  True,  True,  True,  True,  True,\n",
       "        True,  True,  True,  True,  True,  True, False, False, False,\n",
       "       False, False, False, False, False, False, False, False, False,\n",
       "       False, False, False, False, False, False, False, False, False,\n",
       "       False, False, False, False, False, False, False, False, False,\n",
       "       False, False, False, False, False, False, False, False, False,\n",
       "       False, False, False, False, False, False, False, False, False,\n",
       "       False, False, False, False, False, False, False, False, False,\n",
       "       False, False, False, False, False, False, False, False, False,\n",
       "       False, False, False, False, False, False, False, False, False,\n",
       "       False, False, False, False, False, False, False, False, False,\n",
       "       False, False, False, False, False, False, False, False, False,\n",
       "       False, False, False, False, False, False, False, False, False,\n",
       "       False, False, False, False, False, False, False, False, False,\n",
       "       False, False, False, False, False, False, False, False, False,\n",
       "       False, False, False, False, False, False, False, False,  True,\n",
       "        True,  True,  True], dtype=bool)"
      ]
     },
     "execution_count": 57,
     "metadata": {},
     "output_type": "execute_result"
    }
   ],
   "source": [
    "# If you've not yet cleaned the dataset of all NaN values, then investigate and\n",
    "# do that now.\n",
    "azdias_few_missing.isna().any().values"
   ]
  },
  {
   "cell_type": "code",
   "execution_count": 58,
   "metadata": {},
   "outputs": [
    {
     "data": {
      "text/plain": [
       "array([False, False, False, False, False, False, False, False, False,\n",
       "       False, False, False, False, False, False, False, False, False,\n",
       "       False, False, False, False, False, False, False, False, False,\n",
       "       False, False, False, False, False, False, False, False, False,\n",
       "       False, False, False, False, False, False, False, False, False,\n",
       "       False, False, False, False, False, False, False, False, False,\n",
       "       False, False, False, False, False, False, False, False, False,\n",
       "       False, False, False, False, False, False, False, False, False,\n",
       "       False, False, False, False, False, False, False, False, False,\n",
       "       False, False, False, False, False, False, False, False, False,\n",
       "       False, False, False, False, False, False, False, False, False,\n",
       "       False, False, False, False, False, False, False, False, False,\n",
       "       False, False, False, False, False, False, False, False, False,\n",
       "       False, False, False, False, False, False, False, False, False,\n",
       "       False, False, False, False, False, False, False, False, False,\n",
       "       False, False, False, False, False, False, False, False, False,\n",
       "       False, False, False, False, False, False, False, False, False,\n",
       "       False, False, False, False, False, False, False, False, False,\n",
       "       False, False, False, False, False, False, False, False, False,\n",
       "       False, False, False, False, False, False, False, False, False,\n",
       "       False, False, False, False, False, False, False, False, False,\n",
       "       False, False, False], dtype=bool)"
      ]
     },
     "execution_count": 58,
     "metadata": {},
     "output_type": "execute_result"
    }
   ],
   "source": [
    "fill_nan = Imputer(missing_values=np.nan, strategy='mean', axis=1)\n",
    "azdias_cleaned = pd.DataFrame(fill_nan.fit_transform(azdias_few_missing), columns=azdias_few_missing.keys())\n",
    "azdias_cleaned.isna().any().values"
   ]
  },
  {
   "cell_type": "code",
   "execution_count": 59,
   "metadata": {},
   "outputs": [
    {
     "data": {
      "text/plain": [
       "191"
      ]
     },
     "execution_count": 59,
     "metadata": {},
     "output_type": "execute_result"
    }
   ],
   "source": [
    "# Dropping column=GEBAEUDETYP_6.0 as this appered in azdias data after one hot encoding\n",
    "# and didn't appear in customers data after one hot encoding which caused dimension problems \n",
    "# in step 3.2 and also it will not be an important feature if it appeared in azdias only.\n",
    "azdias_cleaned.drop(columns=['GEBAEUDETYP_6.0'], inplace=True)\n",
    "azdias_cleaned.shape[1]"
   ]
  },
  {
   "cell_type": "code",
   "execution_count": 60,
   "metadata": {},
   "outputs": [
    {
     "data": {
      "text/html": [
       "<div>\n",
       "<style scoped>\n",
       "    .dataframe tbody tr th:only-of-type {\n",
       "        vertical-align: middle;\n",
       "    }\n",
       "\n",
       "    .dataframe tbody tr th {\n",
       "        vertical-align: top;\n",
       "    }\n",
       "\n",
       "    .dataframe thead th {\n",
       "        text-align: right;\n",
       "    }\n",
       "</style>\n",
       "<table border=\"1\" class=\"dataframe\">\n",
       "  <thead>\n",
       "    <tr style=\"text-align: right;\">\n",
       "      <th></th>\n",
       "      <th>ALTERSKATEGORIE_GROB</th>\n",
       "      <th>ANREDE_KZ</th>\n",
       "      <th>FINANZ_MINIMALIST</th>\n",
       "      <th>FINANZ_SPARER</th>\n",
       "      <th>FINANZ_VORSORGER</th>\n",
       "      <th>FINANZ_ANLEGER</th>\n",
       "      <th>FINANZ_UNAUFFAELLIGER</th>\n",
       "      <th>FINANZ_HAUSBAUER</th>\n",
       "      <th>GREEN_AVANTGARDE</th>\n",
       "      <th>HEALTH_TYP</th>\n",
       "      <th>...</th>\n",
       "      <th>CAMEO_DEU_2015_8D</th>\n",
       "      <th>CAMEO_DEU_2015_9A</th>\n",
       "      <th>CAMEO_DEU_2015_9B</th>\n",
       "      <th>CAMEO_DEU_2015_9C</th>\n",
       "      <th>CAMEO_DEU_2015_9D</th>\n",
       "      <th>CAMEO_DEU_2015_9E</th>\n",
       "      <th>PRAEGENDE_JUGENDJAHRE_GENERATIONS</th>\n",
       "      <th>PRAEGENDE_JUGENDJAHRE_MOVEMENT</th>\n",
       "      <th>CAMEO_INTL_2015_WEALTH</th>\n",
       "      <th>CAMEO_INTL_2015_LIFE_STAGE</th>\n",
       "    </tr>\n",
       "  </thead>\n",
       "  <tbody>\n",
       "    <tr>\n",
       "      <th>count</th>\n",
       "      <td>797077.000000</td>\n",
       "      <td>797077.000000</td>\n",
       "      <td>797077.000000</td>\n",
       "      <td>797077.000000</td>\n",
       "      <td>797077.000000</td>\n",
       "      <td>797077.000000</td>\n",
       "      <td>797077.000000</td>\n",
       "      <td>797077.000000</td>\n",
       "      <td>797077.000000</td>\n",
       "      <td>797077.000000</td>\n",
       "      <td>...</td>\n",
       "      <td>797077.000000</td>\n",
       "      <td>797077.000000</td>\n",
       "      <td>797077.000000</td>\n",
       "      <td>797077.000000</td>\n",
       "      <td>797077.000000</td>\n",
       "      <td>797077.000000</td>\n",
       "      <td>797077.000000</td>\n",
       "      <td>797077.000000</td>\n",
       "      <td>797077.000000</td>\n",
       "      <td>797077.000000</td>\n",
       "    </tr>\n",
       "    <tr>\n",
       "      <th>mean</th>\n",
       "      <td>2.837586</td>\n",
       "      <td>0.521377</td>\n",
       "      <td>3.058727</td>\n",
       "      <td>2.715815</td>\n",
       "      <td>3.432951</td>\n",
       "      <td>2.840685</td>\n",
       "      <td>2.656884</td>\n",
       "      <td>3.115607</td>\n",
       "      <td>0.219722</td>\n",
       "      <td>2.777840</td>\n",
       "      <td>...</td>\n",
       "      <td>0.022037</td>\n",
       "      <td>0.025765</td>\n",
       "      <td>0.034703</td>\n",
       "      <td>0.031347</td>\n",
       "      <td>0.035870</td>\n",
       "      <td>0.007983</td>\n",
       "      <td>3.741627</td>\n",
       "      <td>0.747843</td>\n",
       "      <td>3.339084</td>\n",
       "      <td>2.952247</td>\n",
       "    </tr>\n",
       "    <tr>\n",
       "      <th>std</th>\n",
       "      <td>1.248993</td>\n",
       "      <td>0.499543</td>\n",
       "      <td>1.377570</td>\n",
       "      <td>1.485032</td>\n",
       "      <td>1.376959</td>\n",
       "      <td>1.472527</td>\n",
       "      <td>1.399118</td>\n",
       "      <td>1.407806</td>\n",
       "      <td>0.414058</td>\n",
       "      <td>2.773639</td>\n",
       "      <td>...</td>\n",
       "      <td>0.146803</td>\n",
       "      <td>0.158435</td>\n",
       "      <td>0.183027</td>\n",
       "      <td>0.174254</td>\n",
       "      <td>0.185966</td>\n",
       "      <td>0.088990</td>\n",
       "      <td>2.593454</td>\n",
       "      <td>2.762380</td>\n",
       "      <td>1.715348</td>\n",
       "      <td>1.749939</td>\n",
       "    </tr>\n",
       "    <tr>\n",
       "      <th>min</th>\n",
       "      <td>1.000000</td>\n",
       "      <td>0.000000</td>\n",
       "      <td>1.000000</td>\n",
       "      <td>1.000000</td>\n",
       "      <td>1.000000</td>\n",
       "      <td>1.000000</td>\n",
       "      <td>1.000000</td>\n",
       "      <td>1.000000</td>\n",
       "      <td>0.000000</td>\n",
       "      <td>1.000000</td>\n",
       "      <td>...</td>\n",
       "      <td>0.000000</td>\n",
       "      <td>0.000000</td>\n",
       "      <td>0.000000</td>\n",
       "      <td>0.000000</td>\n",
       "      <td>0.000000</td>\n",
       "      <td>0.000000</td>\n",
       "      <td>0.000000</td>\n",
       "      <td>0.000000</td>\n",
       "      <td>1.000000</td>\n",
       "      <td>1.000000</td>\n",
       "    </tr>\n",
       "    <tr>\n",
       "      <th>25%</th>\n",
       "      <td>2.000000</td>\n",
       "      <td>0.000000</td>\n",
       "      <td>2.000000</td>\n",
       "      <td>1.000000</td>\n",
       "      <td>2.000000</td>\n",
       "      <td>1.000000</td>\n",
       "      <td>1.000000</td>\n",
       "      <td>2.000000</td>\n",
       "      <td>0.000000</td>\n",
       "      <td>2.000000</td>\n",
       "      <td>...</td>\n",
       "      <td>0.000000</td>\n",
       "      <td>0.000000</td>\n",
       "      <td>0.000000</td>\n",
       "      <td>0.000000</td>\n",
       "      <td>0.000000</td>\n",
       "      <td>0.000000</td>\n",
       "      <td>2.000000</td>\n",
       "      <td>0.000000</td>\n",
       "      <td>2.000000</td>\n",
       "      <td>1.000000</td>\n",
       "    </tr>\n",
       "    <tr>\n",
       "      <th>50%</th>\n",
       "      <td>3.000000</td>\n",
       "      <td>1.000000</td>\n",
       "      <td>3.000000</td>\n",
       "      <td>3.000000</td>\n",
       "      <td>4.000000</td>\n",
       "      <td>3.000000</td>\n",
       "      <td>2.000000</td>\n",
       "      <td>3.000000</td>\n",
       "      <td>0.000000</td>\n",
       "      <td>2.000000</td>\n",
       "      <td>...</td>\n",
       "      <td>0.000000</td>\n",
       "      <td>0.000000</td>\n",
       "      <td>0.000000</td>\n",
       "      <td>0.000000</td>\n",
       "      <td>0.000000</td>\n",
       "      <td>0.000000</td>\n",
       "      <td>4.000000</td>\n",
       "      <td>0.000000</td>\n",
       "      <td>4.000000</td>\n",
       "      <td>3.000000</td>\n",
       "    </tr>\n",
       "    <tr>\n",
       "      <th>75%</th>\n",
       "      <td>4.000000</td>\n",
       "      <td>1.000000</td>\n",
       "      <td>4.000000</td>\n",
       "      <td>4.000000</td>\n",
       "      <td>5.000000</td>\n",
       "      <td>4.000000</td>\n",
       "      <td>4.000000</td>\n",
       "      <td>4.000000</td>\n",
       "      <td>0.000000</td>\n",
       "      <td>3.000000</td>\n",
       "      <td>...</td>\n",
       "      <td>0.000000</td>\n",
       "      <td>0.000000</td>\n",
       "      <td>0.000000</td>\n",
       "      <td>0.000000</td>\n",
       "      <td>0.000000</td>\n",
       "      <td>0.000000</td>\n",
       "      <td>5.000000</td>\n",
       "      <td>1.000000</td>\n",
       "      <td>5.000000</td>\n",
       "      <td>4.000000</td>\n",
       "    </tr>\n",
       "    <tr>\n",
       "      <th>max</th>\n",
       "      <td>23.137566</td>\n",
       "      <td>1.000000</td>\n",
       "      <td>5.000000</td>\n",
       "      <td>5.000000</td>\n",
       "      <td>5.000000</td>\n",
       "      <td>5.000000</td>\n",
       "      <td>5.000000</td>\n",
       "      <td>5.000000</td>\n",
       "      <td>1.000000</td>\n",
       "      <td>24.549451</td>\n",
       "      <td>...</td>\n",
       "      <td>1.000000</td>\n",
       "      <td>1.000000</td>\n",
       "      <td>1.000000</td>\n",
       "      <td>1.000000</td>\n",
       "      <td>1.000000</td>\n",
       "      <td>1.000000</td>\n",
       "      <td>24.915730</td>\n",
       "      <td>24.915730</td>\n",
       "      <td>23.684211</td>\n",
       "      <td>23.684211</td>\n",
       "    </tr>\n",
       "  </tbody>\n",
       "</table>\n",
       "<p>8 rows × 191 columns</p>\n",
       "</div>"
      ],
      "text/plain": [
       "       ALTERSKATEGORIE_GROB      ANREDE_KZ  FINANZ_MINIMALIST  FINANZ_SPARER  \\\n",
       "count         797077.000000  797077.000000      797077.000000  797077.000000   \n",
       "mean               2.837586       0.521377           3.058727       2.715815   \n",
       "std                1.248993       0.499543           1.377570       1.485032   \n",
       "min                1.000000       0.000000           1.000000       1.000000   \n",
       "25%                2.000000       0.000000           2.000000       1.000000   \n",
       "50%                3.000000       1.000000           3.000000       3.000000   \n",
       "75%                4.000000       1.000000           4.000000       4.000000   \n",
       "max               23.137566       1.000000           5.000000       5.000000   \n",
       "\n",
       "       FINANZ_VORSORGER  FINANZ_ANLEGER  FINANZ_UNAUFFAELLIGER  \\\n",
       "count     797077.000000   797077.000000          797077.000000   \n",
       "mean           3.432951        2.840685               2.656884   \n",
       "std            1.376959        1.472527               1.399118   \n",
       "min            1.000000        1.000000               1.000000   \n",
       "25%            2.000000        1.000000               1.000000   \n",
       "50%            4.000000        3.000000               2.000000   \n",
       "75%            5.000000        4.000000               4.000000   \n",
       "max            5.000000        5.000000               5.000000   \n",
       "\n",
       "       FINANZ_HAUSBAUER  GREEN_AVANTGARDE     HEALTH_TYP  \\\n",
       "count     797077.000000     797077.000000  797077.000000   \n",
       "mean           3.115607          0.219722       2.777840   \n",
       "std            1.407806          0.414058       2.773639   \n",
       "min            1.000000          0.000000       1.000000   \n",
       "25%            2.000000          0.000000       2.000000   \n",
       "50%            3.000000          0.000000       2.000000   \n",
       "75%            4.000000          0.000000       3.000000   \n",
       "max            5.000000          1.000000      24.549451   \n",
       "\n",
       "                  ...              CAMEO_DEU_2015_8D  CAMEO_DEU_2015_9A  \\\n",
       "count             ...                  797077.000000      797077.000000   \n",
       "mean              ...                       0.022037           0.025765   \n",
       "std               ...                       0.146803           0.158435   \n",
       "min               ...                       0.000000           0.000000   \n",
       "25%               ...                       0.000000           0.000000   \n",
       "50%               ...                       0.000000           0.000000   \n",
       "75%               ...                       0.000000           0.000000   \n",
       "max               ...                       1.000000           1.000000   \n",
       "\n",
       "       CAMEO_DEU_2015_9B  CAMEO_DEU_2015_9C  CAMEO_DEU_2015_9D  \\\n",
       "count      797077.000000      797077.000000      797077.000000   \n",
       "mean            0.034703           0.031347           0.035870   \n",
       "std             0.183027           0.174254           0.185966   \n",
       "min             0.000000           0.000000           0.000000   \n",
       "25%             0.000000           0.000000           0.000000   \n",
       "50%             0.000000           0.000000           0.000000   \n",
       "75%             0.000000           0.000000           0.000000   \n",
       "max             1.000000           1.000000           1.000000   \n",
       "\n",
       "       CAMEO_DEU_2015_9E  PRAEGENDE_JUGENDJAHRE_GENERATIONS  \\\n",
       "count      797077.000000                      797077.000000   \n",
       "mean            0.007983                           3.741627   \n",
       "std             0.088990                           2.593454   \n",
       "min             0.000000                           0.000000   \n",
       "25%             0.000000                           2.000000   \n",
       "50%             0.000000                           4.000000   \n",
       "75%             0.000000                           5.000000   \n",
       "max             1.000000                          24.915730   \n",
       "\n",
       "       PRAEGENDE_JUGENDJAHRE_MOVEMENT  CAMEO_INTL_2015_WEALTH  \\\n",
       "count                   797077.000000           797077.000000   \n",
       "mean                         0.747843                3.339084   \n",
       "std                          2.762380                1.715348   \n",
       "min                          0.000000                1.000000   \n",
       "25%                          0.000000                2.000000   \n",
       "50%                          0.000000                4.000000   \n",
       "75%                          1.000000                5.000000   \n",
       "max                         24.915730               23.684211   \n",
       "\n",
       "       CAMEO_INTL_2015_LIFE_STAGE  \n",
       "count               797077.000000  \n",
       "mean                     2.952247  \n",
       "std                      1.749939  \n",
       "min                      1.000000  \n",
       "25%                      1.000000  \n",
       "50%                      3.000000  \n",
       "75%                      4.000000  \n",
       "max                     23.684211  \n",
       "\n",
       "[8 rows x 191 columns]"
      ]
     },
     "execution_count": 60,
     "metadata": {},
     "output_type": "execute_result"
    }
   ],
   "source": [
    "# Check mean and std before applying standard scaler\n",
    "azdias_cleaned.describe()"
   ]
  },
  {
   "cell_type": "code",
   "execution_count": 61,
   "metadata": {},
   "outputs": [],
   "source": [
    "# Apply feature scaling to the general population demographics data.\n",
    "scaler = StandardScaler()\n",
    "azdias_scaled = pd.DataFrame(scaler.fit_transform(azdias_cleaned), columns=azdias_cleaned.keys())\n"
   ]
  },
  {
   "cell_type": "code",
   "execution_count": 62,
   "metadata": {},
   "outputs": [
    {
     "data": {
      "text/html": [
       "<div>\n",
       "<style scoped>\n",
       "    .dataframe tbody tr th:only-of-type {\n",
       "        vertical-align: middle;\n",
       "    }\n",
       "\n",
       "    .dataframe tbody tr th {\n",
       "        vertical-align: top;\n",
       "    }\n",
       "\n",
       "    .dataframe thead th {\n",
       "        text-align: right;\n",
       "    }\n",
       "</style>\n",
       "<table border=\"1\" class=\"dataframe\">\n",
       "  <thead>\n",
       "    <tr style=\"text-align: right;\">\n",
       "      <th></th>\n",
       "      <th>ALTERSKATEGORIE_GROB</th>\n",
       "      <th>ANREDE_KZ</th>\n",
       "      <th>FINANZ_MINIMALIST</th>\n",
       "      <th>FINANZ_SPARER</th>\n",
       "      <th>FINANZ_VORSORGER</th>\n",
       "      <th>FINANZ_ANLEGER</th>\n",
       "      <th>FINANZ_UNAUFFAELLIGER</th>\n",
       "      <th>FINANZ_HAUSBAUER</th>\n",
       "      <th>GREEN_AVANTGARDE</th>\n",
       "      <th>HEALTH_TYP</th>\n",
       "      <th>...</th>\n",
       "      <th>CAMEO_DEU_2015_8D</th>\n",
       "      <th>CAMEO_DEU_2015_9A</th>\n",
       "      <th>CAMEO_DEU_2015_9B</th>\n",
       "      <th>CAMEO_DEU_2015_9C</th>\n",
       "      <th>CAMEO_DEU_2015_9D</th>\n",
       "      <th>CAMEO_DEU_2015_9E</th>\n",
       "      <th>PRAEGENDE_JUGENDJAHRE_GENERATIONS</th>\n",
       "      <th>PRAEGENDE_JUGENDJAHRE_MOVEMENT</th>\n",
       "      <th>CAMEO_INTL_2015_WEALTH</th>\n",
       "      <th>CAMEO_INTL_2015_LIFE_STAGE</th>\n",
       "    </tr>\n",
       "  </thead>\n",
       "  <tbody>\n",
       "    <tr>\n",
       "      <th>count</th>\n",
       "      <td>7.970770e+05</td>\n",
       "      <td>7.970770e+05</td>\n",
       "      <td>7.970770e+05</td>\n",
       "      <td>7.970770e+05</td>\n",
       "      <td>7.970770e+05</td>\n",
       "      <td>7.970770e+05</td>\n",
       "      <td>7.970770e+05</td>\n",
       "      <td>7.970770e+05</td>\n",
       "      <td>7.970770e+05</td>\n",
       "      <td>7.970770e+05</td>\n",
       "      <td>...</td>\n",
       "      <td>7.970770e+05</td>\n",
       "      <td>7.970770e+05</td>\n",
       "      <td>7.970770e+05</td>\n",
       "      <td>7.970770e+05</td>\n",
       "      <td>7.970770e+05</td>\n",
       "      <td>7.970770e+05</td>\n",
       "      <td>7.970770e+05</td>\n",
       "      <td>7.970770e+05</td>\n",
       "      <td>7.970770e+05</td>\n",
       "      <td>7.970770e+05</td>\n",
       "    </tr>\n",
       "    <tr>\n",
       "      <th>mean</th>\n",
       "      <td>-1.429863e-16</td>\n",
       "      <td>8.441894e-17</td>\n",
       "      <td>-1.709506e-16</td>\n",
       "      <td>-7.889204e-18</td>\n",
       "      <td>1.460974e-16</td>\n",
       "      <td>7.380195e-17</td>\n",
       "      <td>-1.123387e-16</td>\n",
       "      <td>-6.234700e-17</td>\n",
       "      <td>-4.245462e-17</td>\n",
       "      <td>-3.621056e-16</td>\n",
       "      <td>...</td>\n",
       "      <td>2.526328e-17</td>\n",
       "      <td>-5.134668e-18</td>\n",
       "      <td>-1.241770e-17</td>\n",
       "      <td>-6.013178e-17</td>\n",
       "      <td>8.506969e-17</td>\n",
       "      <td>-1.982553e-17</td>\n",
       "      <td>-3.062616e-16</td>\n",
       "      <td>-1.082069e-16</td>\n",
       "      <td>8.961779e-16</td>\n",
       "      <td>-2.120190e-16</td>\n",
       "    </tr>\n",
       "    <tr>\n",
       "      <th>std</th>\n",
       "      <td>1.000001e+00</td>\n",
       "      <td>1.000001e+00</td>\n",
       "      <td>1.000001e+00</td>\n",
       "      <td>1.000001e+00</td>\n",
       "      <td>1.000001e+00</td>\n",
       "      <td>1.000001e+00</td>\n",
       "      <td>1.000001e+00</td>\n",
       "      <td>1.000001e+00</td>\n",
       "      <td>1.000001e+00</td>\n",
       "      <td>1.000001e+00</td>\n",
       "      <td>...</td>\n",
       "      <td>1.000001e+00</td>\n",
       "      <td>1.000001e+00</td>\n",
       "      <td>1.000001e+00</td>\n",
       "      <td>1.000001e+00</td>\n",
       "      <td>1.000001e+00</td>\n",
       "      <td>1.000001e+00</td>\n",
       "      <td>1.000001e+00</td>\n",
       "      <td>1.000001e+00</td>\n",
       "      <td>1.000001e+00</td>\n",
       "      <td>1.000001e+00</td>\n",
       "    </tr>\n",
       "    <tr>\n",
       "      <th>min</th>\n",
       "      <td>-1.471255e+00</td>\n",
       "      <td>-1.043709e+00</td>\n",
       "      <td>-1.494463e+00</td>\n",
       "      <td>-1.155407e+00</td>\n",
       "      <td>-1.766903e+00</td>\n",
       "      <td>-1.250019e+00</td>\n",
       "      <td>-1.184235e+00</td>\n",
       "      <td>-1.502770e+00</td>\n",
       "      <td>-5.306541e-01</td>\n",
       "      <td>-6.409776e-01</td>\n",
       "      <td>...</td>\n",
       "      <td>-1.501111e-01</td>\n",
       "      <td>-1.626247e-01</td>\n",
       "      <td>-1.896065e-01</td>\n",
       "      <td>-1.798929e-01</td>\n",
       "      <td>-1.928842e-01</td>\n",
       "      <td>-8.970595e-02</td>\n",
       "      <td>-1.442721e+00</td>\n",
       "      <td>-2.707242e-01</td>\n",
       "      <td>-1.363621e+00</td>\n",
       "      <td>-1.115610e+00</td>\n",
       "    </tr>\n",
       "    <tr>\n",
       "      <th>25%</th>\n",
       "      <td>-6.706096e-01</td>\n",
       "      <td>-1.043709e+00</td>\n",
       "      <td>-7.685472e-01</td>\n",
       "      <td>-1.155407e+00</td>\n",
       "      <td>-1.040664e+00</td>\n",
       "      <td>-1.250019e+00</td>\n",
       "      <td>-1.184235e+00</td>\n",
       "      <td>-7.924445e-01</td>\n",
       "      <td>-5.306541e-01</td>\n",
       "      <td>-2.804402e-01</td>\n",
       "      <td>...</td>\n",
       "      <td>-1.501111e-01</td>\n",
       "      <td>-1.626247e-01</td>\n",
       "      <td>-1.896065e-01</td>\n",
       "      <td>-1.798929e-01</td>\n",
       "      <td>-1.928842e-01</td>\n",
       "      <td>-8.970595e-02</td>\n",
       "      <td>-6.715478e-01</td>\n",
       "      <td>-2.707242e-01</td>\n",
       "      <td>-7.806491e-01</td>\n",
       "      <td>-1.115610e+00</td>\n",
       "    </tr>\n",
       "    <tr>\n",
       "      <th>50%</th>\n",
       "      <td>1.300356e-01</td>\n",
       "      <td>9.581212e-01</td>\n",
       "      <td>-4.263094e-02</td>\n",
       "      <td>1.913661e-01</td>\n",
       "      <td>4.118132e-01</td>\n",
       "      <td>1.081913e-01</td>\n",
       "      <td>-4.694988e-01</td>\n",
       "      <td>-8.211890e-02</td>\n",
       "      <td>-5.306541e-01</td>\n",
       "      <td>-2.804402e-01</td>\n",
       "      <td>...</td>\n",
       "      <td>-1.501111e-01</td>\n",
       "      <td>-1.626247e-01</td>\n",
       "      <td>-1.896065e-01</td>\n",
       "      <td>-1.798929e-01</td>\n",
       "      <td>-1.928842e-01</td>\n",
       "      <td>-8.970595e-02</td>\n",
       "      <td>9.962496e-02</td>\n",
       "      <td>-2.707242e-01</td>\n",
       "      <td>3.852955e-01</td>\n",
       "      <td>2.728827e-02</td>\n",
       "    </tr>\n",
       "    <tr>\n",
       "      <th>75%</th>\n",
       "      <td>9.306809e-01</td>\n",
       "      <td>9.581212e-01</td>\n",
       "      <td>6.832853e-01</td>\n",
       "      <td>8.647525e-01</td>\n",
       "      <td>1.138052e+00</td>\n",
       "      <td>7.872963e-01</td>\n",
       "      <td>9.599741e-01</td>\n",
       "      <td>6.282067e-01</td>\n",
       "      <td>-5.306541e-01</td>\n",
       "      <td>8.009715e-02</td>\n",
       "      <td>...</td>\n",
       "      <td>-1.501111e-01</td>\n",
       "      <td>-1.626247e-01</td>\n",
       "      <td>-1.896065e-01</td>\n",
       "      <td>-1.798929e-01</td>\n",
       "      <td>-1.928842e-01</td>\n",
       "      <td>-8.970595e-02</td>\n",
       "      <td>4.852113e-01</td>\n",
       "      <td>9.128273e-02</td>\n",
       "      <td>9.682678e-01</td>\n",
       "      <td>5.987372e-01</td>\n",
       "    </tr>\n",
       "    <tr>\n",
       "      <th>max</th>\n",
       "      <td>1.625308e+01</td>\n",
       "      <td>9.581212e-01</td>\n",
       "      <td>1.409202e+00</td>\n",
       "      <td>1.538139e+00</td>\n",
       "      <td>1.138052e+00</td>\n",
       "      <td>1.466401e+00</td>\n",
       "      <td>1.674710e+00</td>\n",
       "      <td>1.338532e+00</td>\n",
       "      <td>1.884467e+00</td>\n",
       "      <td>7.849480e+00</td>\n",
       "      <td>...</td>\n",
       "      <td>6.661735e+00</td>\n",
       "      <td>6.149126e+00</td>\n",
       "      <td>5.274079e+00</td>\n",
       "      <td>5.558862e+00</td>\n",
       "      <td>5.184457e+00</td>\n",
       "      <td>1.114753e+01</td>\n",
       "      <td>8.164446e+00</td>\n",
       "      <td>8.748943e+00</td>\n",
       "      <td>1.186065e+01</td>\n",
       "      <td>1.184726e+01</td>\n",
       "    </tr>\n",
       "  </tbody>\n",
       "</table>\n",
       "<p>8 rows × 191 columns</p>\n",
       "</div>"
      ],
      "text/plain": [
       "       ALTERSKATEGORIE_GROB     ANREDE_KZ  FINANZ_MINIMALIST  FINANZ_SPARER  \\\n",
       "count          7.970770e+05  7.970770e+05       7.970770e+05   7.970770e+05   \n",
       "mean          -1.429863e-16  8.441894e-17      -1.709506e-16  -7.889204e-18   \n",
       "std            1.000001e+00  1.000001e+00       1.000001e+00   1.000001e+00   \n",
       "min           -1.471255e+00 -1.043709e+00      -1.494463e+00  -1.155407e+00   \n",
       "25%           -6.706096e-01 -1.043709e+00      -7.685472e-01  -1.155407e+00   \n",
       "50%            1.300356e-01  9.581212e-01      -4.263094e-02   1.913661e-01   \n",
       "75%            9.306809e-01  9.581212e-01       6.832853e-01   8.647525e-01   \n",
       "max            1.625308e+01  9.581212e-01       1.409202e+00   1.538139e+00   \n",
       "\n",
       "       FINANZ_VORSORGER  FINANZ_ANLEGER  FINANZ_UNAUFFAELLIGER  \\\n",
       "count      7.970770e+05    7.970770e+05           7.970770e+05   \n",
       "mean       1.460974e-16    7.380195e-17          -1.123387e-16   \n",
       "std        1.000001e+00    1.000001e+00           1.000001e+00   \n",
       "min       -1.766903e+00   -1.250019e+00          -1.184235e+00   \n",
       "25%       -1.040664e+00   -1.250019e+00          -1.184235e+00   \n",
       "50%        4.118132e-01    1.081913e-01          -4.694988e-01   \n",
       "75%        1.138052e+00    7.872963e-01           9.599741e-01   \n",
       "max        1.138052e+00    1.466401e+00           1.674710e+00   \n",
       "\n",
       "       FINANZ_HAUSBAUER  GREEN_AVANTGARDE    HEALTH_TYP  \\\n",
       "count      7.970770e+05      7.970770e+05  7.970770e+05   \n",
       "mean      -6.234700e-17     -4.245462e-17 -3.621056e-16   \n",
       "std        1.000001e+00      1.000001e+00  1.000001e+00   \n",
       "min       -1.502770e+00     -5.306541e-01 -6.409776e-01   \n",
       "25%       -7.924445e-01     -5.306541e-01 -2.804402e-01   \n",
       "50%       -8.211890e-02     -5.306541e-01 -2.804402e-01   \n",
       "75%        6.282067e-01     -5.306541e-01  8.009715e-02   \n",
       "max        1.338532e+00      1.884467e+00  7.849480e+00   \n",
       "\n",
       "                  ...              CAMEO_DEU_2015_8D  CAMEO_DEU_2015_9A  \\\n",
       "count             ...                   7.970770e+05       7.970770e+05   \n",
       "mean              ...                   2.526328e-17      -5.134668e-18   \n",
       "std               ...                   1.000001e+00       1.000001e+00   \n",
       "min               ...                  -1.501111e-01      -1.626247e-01   \n",
       "25%               ...                  -1.501111e-01      -1.626247e-01   \n",
       "50%               ...                  -1.501111e-01      -1.626247e-01   \n",
       "75%               ...                  -1.501111e-01      -1.626247e-01   \n",
       "max               ...                   6.661735e+00       6.149126e+00   \n",
       "\n",
       "       CAMEO_DEU_2015_9B  CAMEO_DEU_2015_9C  CAMEO_DEU_2015_9D  \\\n",
       "count       7.970770e+05       7.970770e+05       7.970770e+05   \n",
       "mean       -1.241770e-17      -6.013178e-17       8.506969e-17   \n",
       "std         1.000001e+00       1.000001e+00       1.000001e+00   \n",
       "min        -1.896065e-01      -1.798929e-01      -1.928842e-01   \n",
       "25%        -1.896065e-01      -1.798929e-01      -1.928842e-01   \n",
       "50%        -1.896065e-01      -1.798929e-01      -1.928842e-01   \n",
       "75%        -1.896065e-01      -1.798929e-01      -1.928842e-01   \n",
       "max         5.274079e+00       5.558862e+00       5.184457e+00   \n",
       "\n",
       "       CAMEO_DEU_2015_9E  PRAEGENDE_JUGENDJAHRE_GENERATIONS  \\\n",
       "count       7.970770e+05                       7.970770e+05   \n",
       "mean       -1.982553e-17                      -3.062616e-16   \n",
       "std         1.000001e+00                       1.000001e+00   \n",
       "min        -8.970595e-02                      -1.442721e+00   \n",
       "25%        -8.970595e-02                      -6.715478e-01   \n",
       "50%        -8.970595e-02                       9.962496e-02   \n",
       "75%        -8.970595e-02                       4.852113e-01   \n",
       "max         1.114753e+01                       8.164446e+00   \n",
       "\n",
       "       PRAEGENDE_JUGENDJAHRE_MOVEMENT  CAMEO_INTL_2015_WEALTH  \\\n",
       "count                    7.970770e+05            7.970770e+05   \n",
       "mean                    -1.082069e-16            8.961779e-16   \n",
       "std                      1.000001e+00            1.000001e+00   \n",
       "min                     -2.707242e-01           -1.363621e+00   \n",
       "25%                     -2.707242e-01           -7.806491e-01   \n",
       "50%                     -2.707242e-01            3.852955e-01   \n",
       "75%                      9.128273e-02            9.682678e-01   \n",
       "max                      8.748943e+00            1.186065e+01   \n",
       "\n",
       "       CAMEO_INTL_2015_LIFE_STAGE  \n",
       "count                7.970770e+05  \n",
       "mean                -2.120190e-16  \n",
       "std                  1.000001e+00  \n",
       "min                 -1.115610e+00  \n",
       "25%                 -1.115610e+00  \n",
       "50%                  2.728827e-02  \n",
       "75%                  5.987372e-01  \n",
       "max                  1.184726e+01  \n",
       "\n",
       "[8 rows x 191 columns]"
      ]
     },
     "execution_count": 62,
     "metadata": {},
     "output_type": "execute_result"
    }
   ],
   "source": [
    "# Check if new mean equals 0 and std equals 1\n",
    "azdias_scaled.describe()"
   ]
  },
  {
   "cell_type": "markdown",
   "metadata": {},
   "source": [
    "### Discussion 2.1: Apply Feature Scaling\n",
    "\n",
    "- I have chose to impute missing values with mean of its column values as the mean takes all data into account and it is the best strategy to make an infrence of the missing values\n"
   ]
  },
  {
   "cell_type": "markdown",
   "metadata": {},
   "source": [
    "### Step 2.2: Perform Dimensionality Reduction\n",
    "\n",
    "On your scaled data, you are now ready to apply dimensionality reduction techniques.\n",
    "\n",
    "- Use sklearn's [PCA](http://scikit-learn.org/stable/modules/generated/sklearn.decomposition.PCA.html) class to apply principal component analysis on the data, thus finding the vectors of maximal variance in the data. To start, you should not set any parameters (so all components are computed) or set a number of components that is at least half the number of features (so there's enough features to see the general trend in variability).\n",
    "- Check out the ratio of variance explained by each principal component as well as the cumulative variance explained. Try plotting the cumulative or sequential values using matplotlib's [`plot()`](https://matplotlib.org/api/_as_gen/matplotlib.pyplot.plot.html) function. Based on what you find, select a value for the number of transformed features you'll retain for the clustering part of the project.\n",
    "- Once you've made a choice for the number of components to keep, make sure you re-fit a PCA instance to perform the decided-on transformation."
   ]
  },
  {
   "cell_type": "code",
   "execution_count": 63,
   "metadata": {},
   "outputs": [],
   "source": [
    "# Apply PCA to the data.\n",
    "pca = PCA()\n",
    "azdias_pca = pca.fit_transform(azdias_scaled)\n"
   ]
  },
  {
   "cell_type": "code",
   "execution_count": 64,
   "metadata": {},
   "outputs": [],
   "source": [
    "# Using Udacity's class helper method for plotting explained_variance_ratio_\n",
    "def scree_plot(pca, num_components=None):\n",
    "    '''\n",
    "    Creates a scree plot associated with the principal components \n",
    "    \n",
    "    INPUT: pca - the result of instantian of PCA in scikit learn\n",
    "            \n",
    "    OUTPUT:\n",
    "            None\n",
    "    '''\n",
    "    if (num_components == None):\n",
    "        num_components = len(pca.explained_variance_ratio_)\n",
    "    ind = np.arange(num_components)\n",
    "    vals = pca.explained_variance_ratio_[:num_components]\n",
    " \n",
    "    plt.figure(figsize=(18, 12))\n",
    "    ax = plt.subplot(111)\n",
    "    cumvals = np.cumsum(vals)\n",
    "    ax.bar(ind, vals)\n",
    "    ax.plot(ind, cumvals)\n",
    " \n",
    "    ax.set_xlabel(\"Principal Component\")\n",
    "    ax.set_ylabel(\"Variance Explained (%)\")\n",
    "    plt.title('Explained Variance Per Principal Component')\n"
   ]
  },
  {
   "cell_type": "code",
   "execution_count": 65,
   "metadata": {},
   "outputs": [
    {
     "data": {
      "image/png": "[encoded data removed]",
      "text/plain": [
       "<matplotlib.figure.Figure at 0x7f2eea4b7d30>"
      ]
     },
     "metadata": {
      "needs_background": "light"
     },
     "output_type": "display_data"
    }
   ],
   "source": [
    "# Investigate the variance accounted for by each principal component.\n",
    "scree_plot(pca)\n"
   ]
  },
  {
   "cell_type": "code",
   "execution_count": 66,
   "metadata": {},
   "outputs": [
    {
     "name": "stdout",
     "output_type": "stream",
     "text": [
      "10 components explains 29.71915961637569% of variance\n",
      "30 components explains 50.3366032973985% of variance\n",
      "50 components explains 62.88512186084374% of variance\n",
      "70 components explains 73.70788886423216% of variance\n",
      "90 components explains 84.20029488751067% of variance\n",
      "110 components explains 93.16816581042498% of variance\n",
      "130 components explains 97.84457067479624% of variance\n",
      "150 components explains 99.70341509726671% of variance\n",
      "170 components explains 100.0% of variance\n",
      "190 components explains 100.0% of variance\n"
     ]
    }
   ],
   "source": [
    "# How much variance in the original data is explained when increasing number of components\n",
    "for i in np.arange(10, len(pca.explained_variance_ratio_), 20):\n",
    "    print('{} components explains {}% of variance'.format(i,(pca.explained_variance_ratio_[:i].sum()) * 100))"
   ]
  },
  {
   "cell_type": "code",
   "execution_count": 67,
   "metadata": {},
   "outputs": [],
   "source": [
    "# Re-apply PCA to the data while selecting for number of components to retain.\n",
    "pca = PCA(n_components=103)\n",
    "azdias_pca = pca.fit_transform(azdias_scaled)"
   ]
  },
  {
   "cell_type": "code",
   "execution_count": 68,
   "metadata": {},
   "outputs": [
    {
     "data": {
      "image/png": "[encoded data removed]",
      "text/plain": [
       "<matplotlib.figure.Figure at 0x7f2ee93d5e10>"
      ]
     },
     "metadata": {
      "needs_background": "light"
     },
     "output_type": "display_data"
    }
   ],
   "source": [
    "# Zooming in for the chosen 103 comonents\n",
    "scree_plot(pca,num_components=103)"
   ]
  },
  {
   "cell_type": "markdown",
   "metadata": {},
   "source": [
    "### Discussion 2.2: Perform Dimensionality Reduction\n",
    "\n",
    "- It is found that variance explained in the original data by 130 features out of 192 equals 97% which means that removing 62 features will only result in only 3% loss of information and that is fascinating\n",
    "- I chose to retain 103 principal components which will explain exactly 90% of total variance in the original data which I believe is very small amount of information lost, therefore will be good for the accuracy of unsupervised model"
   ]
  },
  {
   "cell_type": "markdown",
   "metadata": {},
   "source": [
    "### Step 2.3: Interpret Principal Components\n",
    "\n",
    "Now that we have our transformed principal components, it's a nice idea to check out the weight of each variable on the first few components to see if they can be interpreted in some fashion.\n",
    "\n",
    "As a reminder, each principal component is a unit vector that points in the direction of highest variance (after accounting for the variance captured by earlier principal components). The further a weight is from zero, the more the principal component is in the direction of the corresponding feature. If two features have large weights of the same sign (both positive or both negative), then increases in one tend expect to be associated with increases in the other. To contrast, features with different signs can be expected to show a negative correlation: increases in one variable should result in a decrease in the other.\n",
    "\n",
    "- To investigate the features, you should map each weight to their corresponding feature name, then sort the features according to weight. The most interesting features for each principal component, then, will be those at the beginning and end of the sorted list. Use the data dictionary document to help you understand these most prominent features, their relationships, and what a positive or negative value on the principal component might indicate.\n",
    "- You should investigate and interpret feature associations from the first three principal components in this substep. To help facilitate this, you should write a function that you can call at any time to print the sorted list of feature weights, for the *i*-th principal component. This might come in handy in the next step of the project, when you interpret the tendencies of the discovered clusters."
   ]
  },
  {
   "cell_type": "code",
   "execution_count": 69,
   "metadata": {},
   "outputs": [],
   "source": [
    "def pca_results(df, pca, component_no, features_no):\n",
    "    '''\n",
    "    Create a DataFrame of the PCA results\n",
    "    Visualizes the PCA results for a speacific component number for a speacific number of features\n",
    "    '''\n",
    "    \n",
    "    pca_comp = pd.DataFrame(np.round(pca.components_, 4), columns=df.keys()).iloc[component_no - 1]\n",
    "    pca_comp.sort_values(ascending=False, inplace=True)\n",
    "    # Capturing most interesting features which at the end and beginning of sorted list\n",
    "    pca_comp = pd.concat([pca_comp.head(features_no), pca_comp.tail(features_no)])\n",
    "    \n",
    "    pca_comp.plot(kind='bar', \n",
    "                  title='Most {} weighted features for PCA component {}'.format(features_no*2, component_no),\n",
    "                  figsize=(12, 6));\n",
    "    plt.show()\n",
    "    \n",
    "    return pca_comp"
   ]
  },
  {
   "cell_type": "code",
   "execution_count": 70,
   "metadata": {},
   "outputs": [
    {
     "data": {
      "image/png": "[encoded data removed]",
      "text/plain": [
       "<matplotlib.figure.Figure at 0x7f2ee92b5ef0>"
      ]
     },
     "metadata": {
      "needs_background": "light"
     },
     "output_type": "display_data"
    },
    {
     "data": {
      "text/plain": [
       "FINANZ_MINIMALIST     0.2266\n",
       "MOBI_REGIO            0.1787\n",
       "KBA05_ANTG1           0.1676\n",
       "KBA05_GBZ             0.1656\n",
       "KONSUMNAEHE           0.1310\n",
       "FINANZTYP_1          -0.1531\n",
       "FINANZ_HAUSBAUER     -0.1602\n",
       "FINANZ_SPARER        -0.1659\n",
       "HH_EINKOMMEN_SCORE   -0.1957\n",
       "LP_STATUS_GROB_1.0   -0.2035\n",
       "Name: 0, dtype: float64"
      ]
     },
     "execution_count": 70,
     "metadata": {},
     "output_type": "execute_result"
    }
   ],
   "source": [
    "# Map weights for the first principal component to corresponding feature names\n",
    "# and then print the linked values, sorted by weight.\n",
    "# HINT: Try defining a function here or in a new cell that you can reuse in the\n",
    "# other cells.\n",
    "pca_results(azdias_scaled, pca, 1, 5)\n"
   ]
  },
  {
   "cell_type": "code",
   "execution_count": 71,
   "metadata": {},
   "outputs": [
    {
     "data": {
      "image/png": "[encoded data removed]",
      "text/plain": [
       "<matplotlib.figure.Figure at 0x7f2eeadbd2e8>"
      ]
     },
     "metadata": {
      "needs_background": "light"
     },
     "output_type": "display_data"
    },
    {
     "data": {
      "text/plain": [
       "FINANZ_UNAUFFAELLIGER    0.2132\n",
       "FINANZ_SPARER            0.2006\n",
       "SEMIO_REL                0.1952\n",
       "SEMIO_TRADV              0.1869\n",
       "SEMIO_PFLICHT            0.1824\n",
       "SEMIO_LUST              -0.1573\n",
       "SEMIO_ERL               -0.1691\n",
       "ALTERSKATEGORIE_GROB    -0.1722\n",
       "ZABEOTYP_3              -0.1843\n",
       "FINANZ_VORSORGER        -0.1973\n",
       "Name: 1, dtype: float64"
      ]
     },
     "execution_count": 71,
     "metadata": {},
     "output_type": "execute_result"
    }
   ],
   "source": [
    "# Map weights for the second principal component to corresponding feature names\n",
    "# and then print the linked values, sorted by weight.\n",
    "\n",
    "pca_results(azdias_scaled, pca, 2, 5)"
   ]
  },
  {
   "cell_type": "code",
   "execution_count": 72,
   "metadata": {},
   "outputs": [
    {
     "data": {
      "image/png": "[encoded data removed]",
      "text/plain": [
       "<matplotlib.figure.Figure at 0x7f2ee9267e48>"
      ]
     },
     "metadata": {
      "needs_background": "light"
     },
     "output_type": "display_data"
    },
    {
     "data": {
      "text/plain": [
       "PLZ8_ANTG3     0.2301\n",
       "PLZ8_ANTG4     0.2279\n",
       "PLZ8_ANTG2     0.2217\n",
       "KBA05_ANTG3    0.2159\n",
       "KBA05_ANTG4    0.2148\n",
       "ZABEOTYP_1    -0.1236\n",
       "SEMIO_FAM     -0.1573\n",
       "SEMIO_VERT    -0.1629\n",
       "SEMIO_SOZ     -0.1636\n",
       "SEMIO_KULT    -0.1890\n",
       "Name: 2, dtype: float64"
      ]
     },
     "execution_count": 72,
     "metadata": {},
     "output_type": "execute_result"
    }
   ],
   "source": [
    "# Map weights for the third principal component to corresponding feature names\n",
    "# and then print the linked values, sorted by weight.\n",
    "\n",
    "pca_results(azdias_scaled, pca, 3, 5)"
   ]
  },
  {
   "cell_type": "markdown",
   "metadata": {},
   "source": [
    "### Discussion 2.3: Interpret Principal Components\n",
    "\n",
    "- Most weighted features for the first principle component\n",
    "-FINANZ_MINIMALIST: Financial typology, for low financial interest.\n",
    "-MOBI_REGIO: Movement patterns.\n",
    "-KBA05_ANTG1: Number of 1-2 family houses in the microcell.\n",
    "-KBA05_GBZ: Number of buildings in the microcell.\n",
    "-KONSUMNAEHE: Distance from building to point of sale (PoS).\n",
    "-FINANZTYP_1:\n",
    "-FINANZ_HAUSBAUER: Financial typology, home ownership.\n",
    "-FINANZ_SPARER: Financial typology, for money-saver.\n",
    "-HH_EINKOMMEN_SCORE: Estimated household net income.\n",
    "\n",
    "- Most weighted features for the Second principle component\n",
    "-FINANZ_UNAUFFAELLIGER: Financial typology, for inconspicuous\n",
    "-FINANZ_SPARER: Financial typology, for money-saver\n",
    "-SEMIO_REL: Personality typology, for religious\n",
    "-SEMIO_TRADV: Personality typology, for tradional-minded\n",
    "-SEMIO_PFLICHT: Personality typology, for dutiful\n",
    "-SEMIO_LUST: Personality typology, for sensual-minded\n",
    "-SEMIO_ERL: Personality typology, for event-oriented\n",
    "-ALTERSKATEGORIE_GROB: Estimated age based on given name analysis\n",
    "-ZABEOTYP_3:\n",
    "-FINANZ_VORSORGER: Financial typology, be prepared.\n",
    "\n",
    "- Most weighted features for the third principle component\n",
    "-PLZ8_ANTG3: Number of 6-10 family houses in the PLZ8 region\n",
    "-PLZ8_ANTG4: Number of 10+ family houses in the PLZ8 region\n",
    "-PLZ8_ANTG2: Number of 3-5 family houses in the PLZ8 region\n",
    "-KBA05_ANTG3: Number of 6-10 family houses in the microcell\n",
    "-KBA05_ANTG4: Number of 10+ family houses in the microcell\n",
    "-ZABEOTYP_1:\n",
    "-SEMIO_FAM: Personality typology, for family-minded\n",
    "-SEMIO_VERT: Personality typology, for dreamful\n",
    "-SEMIO_SOZ: Personality typology, for socially-minded\n",
    "-SEMIO_KULT: Personality typology, for cultural-minded \n",
    "\n",
    "- \n",
    "\n",
    "    From above mapping we can deduce that:\n",
    "\n",
    "        First Principle component positively weights items related to people with low financial interest and movement patterns and negatively weights items related to people with financial typology money savers and home ownership.\n",
    "\n",
    "        Second Principle component positively weights items related to people with inconspicuous and money-saver financial\n",
    "        topology. Also, items related to religious, tradional-minded and dutiful personality. Moreover, negatively weights weights items related to people with be prepared financial typology and estimated age.\n",
    "\n",
    "        Third Principle component positively weights items related to Number of family houses in the PLZ8 region and negatively weights items related to people with cultural-minded, socially-minded and dreamful personality typology.\n",
    "        Also it is noted that positive weights items are correlated together and the same goes for negatively weighted items.\n"
   ]
  },
  {
   "cell_type": "markdown",
   "metadata": {},
   "source": [
    "## Step 3: Clustering\n",
    "\n",
    "### Step 3.1: Apply Clustering to General Population\n",
    "\n",
    "You've assessed and cleaned the demographics data, then scaled and transformed them. Now, it's time to see how the data clusters in the principal components space. In this substep, you will apply k-means clustering to the dataset and use the average within-cluster distances from each point to their assigned cluster's centroid to decide on a number of clusters to keep.\n",
    "\n",
    "- Use sklearn's [KMeans](http://scikit-learn.org/stable/modules/generated/sklearn.cluster.KMeans.html#sklearn.cluster.KMeans) class to perform k-means clustering on the PCA-transformed data.\n",
    "- Then, compute the average difference from each point to its assigned cluster's center. **Hint**: The KMeans object's `.score()` method might be useful here, but note that in sklearn, scores tend to be defined so that larger is better. Try applying it to a small, toy dataset, or use an internet search to help your understanding.\n",
    "- Perform the above two steps for a number of different cluster counts. You can then see how the average distance decreases with an increasing number of clusters. However, each additional cluster provides a smaller net benefit. Use this fact to select a final number of clusters in which to group the data. **Warning**: because of the large size of the dataset, it can take a long time for the algorithm to resolve. The more clusters to fit, the longer the algorithm will take. You should test for cluster counts through at least 10 clusters to get the full picture, but you shouldn't need to test for a number of clusters above about 30.\n",
    "- Once you've selected a final number of clusters to use, re-fit a KMeans instance to perform the clustering operation. Make sure that you also obtain the cluster assignments for the general demographics data, since you'll be using them in the final Step 3.3."
   ]
  },
  {
   "cell_type": "code",
   "execution_count": 73,
   "metadata": {},
   "outputs": [],
   "source": [
    "# Using Udacity k-means classroom as a refrence to the below function\n",
    "def get_kmeans_score(data, center):\n",
    "    '''\n",
    "    returns the kmeans score regarding SSE for points to centers\n",
    "    INPUT:\n",
    "        data - the dataset you want to fit kmeans to\n",
    "        center - the number of centers you want (the k value)\n",
    "    OUTPUT:\n",
    "        score - the SSE score for the kmeans model fit to the data\n",
    "    '''\n",
    "    #instantiate kmeans\n",
    "    # Will make max_inter = 20 instead of default 300 as it takes very long time to run\n",
    "    kmeans = KMeans(n_clusters=center, max_iter=20) \n",
    "\n",
    "    # Then fit the model to your data using the fit method\n",
    "    model = kmeans.fit(data)\n",
    "    \n",
    "    # Obtain a score related to the model fit\n",
    "    score = np.abs(model.score(data))\n",
    "    \n",
    "    return score"
   ]
  },
  {
   "cell_type": "code",
   "execution_count": 74,
   "metadata": {},
   "outputs": [],
   "source": [
    "# Over a number of different cluster counts...\n",
    "\n",
    "\n",
    "    # run k-means clustering on the data and...\n",
    "    \n",
    "    \n",
    "    # compute the average within-cluster distances.\n",
    "    \n",
    "scores = []\n",
    "centers = np.arange(1,30,2)\n",
    "\n",
    "for center in centers:\n",
    "    scores.append(get_kmeans_score(azdias_pca, center))"
   ]
  },
  {
   "cell_type": "code",
   "execution_count": 75,
   "metadata": {},
   "outputs": [
    {
     "data": {
      "image/png": "[encoded data removed]",
      "text/plain": [
       "<matplotlib.figure.Figure at 0x7f2eeade8e80>"
      ]
     },
     "metadata": {
      "needs_background": "light"
     },
     "output_type": "display_data"
    }
   ],
   "source": [
    "# Investigate the change in within-cluster distance across number of clusters.\n",
    "# HINT: Use matplotlib's plot function to visualize this relationship.\n",
    "plt.plot(centers, scores, linestyle='--', marker='o', color='b');\n",
    "plt.xlabel('Centers');\n",
    "plt.ylabel('SSE');\n",
    "plt.title('SSE vs. Centers');\n"
   ]
  },
  {
   "cell_type": "code",
   "execution_count": 76,
   "metadata": {},
   "outputs": [],
   "source": [
    "# Re-fit the k-means model with the selected number of clusters and obtain\n",
    "# cluster predictions for the general population demographics data.\n",
    "\n",
    "k = 23\n",
    "kmeans = KMeans(n_clusters=k)\n",
    "model = kmeans.fit(azdias_pca)\n",
    "azdias_clustered = model.predict(azdias_pca)\n"
   ]
  },
  {
   "cell_type": "markdown",
   "metadata": {},
   "source": [
    "### Discussion 3.1: Apply Clustering to General Population\n",
    "\n",
    "- \n",
    "    By using elbow method we can see a strong leveling off after 23 clusters, which suggests 23 clusters should be used\n"
   ]
  },
  {
   "cell_type": "markdown",
   "metadata": {},
   "source": [
    "### Step 3.2: Apply All Steps to the Customer Data\n",
    "\n",
    "Now that you have clusters and cluster centers for the general population, it's time to see how the customer data maps on to those clusters. Take care to not confuse this for re-fitting all of the models to the customer data. Instead, you're going to use the fits from the general population to clean, transform, and cluster the customer data. In the last step of the project, you will interpret how the general population fits apply to the customer data.\n",
    "\n",
    "- Don't forget when loading in the customers data, that it is semicolon (`;`) delimited.\n",
    "- Apply the same feature wrangling, selection, and engineering steps to the customer demographics using the `clean_data()` function you created earlier. (You can assume that the customer demographics data has similar meaning behind missing data patterns as the general demographics data.)\n",
    "- Use the sklearn objects from the general demographics data, and apply their transformations to the customers data. That is, you should not be using a `.fit()` or `.fit_transform()` method to re-fit the old objects, nor should you be creating new sklearn objects! Carry the data through the feature scaling, PCA, and clustering steps, obtaining cluster assignments for all of the data in the customer demographics data."
   ]
  },
  {
   "cell_type": "code",
   "execution_count": 77,
   "metadata": {},
   "outputs": [
    {
     "data": {
      "text/html": [
       "<div>\n",
       "<style scoped>\n",
       "    .dataframe tbody tr th:only-of-type {\n",
       "        vertical-align: middle;\n",
       "    }\n",
       "\n",
       "    .dataframe tbody tr th {\n",
       "        vertical-align: top;\n",
       "    }\n",
       "\n",
       "    .dataframe thead th {\n",
       "        text-align: right;\n",
       "    }\n",
       "</style>\n",
       "<table border=\"1\" class=\"dataframe\">\n",
       "  <thead>\n",
       "    <tr style=\"text-align: right;\">\n",
       "      <th></th>\n",
       "      <th>AGER_TYP</th>\n",
       "      <th>ALTERSKATEGORIE_GROB</th>\n",
       "      <th>ANREDE_KZ</th>\n",
       "      <th>CJT_GESAMTTYP</th>\n",
       "      <th>FINANZ_MINIMALIST</th>\n",
       "      <th>FINANZ_SPARER</th>\n",
       "      <th>FINANZ_VORSORGER</th>\n",
       "      <th>FINANZ_ANLEGER</th>\n",
       "      <th>FINANZ_UNAUFFAELLIGER</th>\n",
       "      <th>FINANZ_HAUSBAUER</th>\n",
       "      <th>...</th>\n",
       "      <th>PLZ8_ANTG1</th>\n",
       "      <th>PLZ8_ANTG2</th>\n",
       "      <th>PLZ8_ANTG3</th>\n",
       "      <th>PLZ8_ANTG4</th>\n",
       "      <th>PLZ8_BAUMAX</th>\n",
       "      <th>PLZ8_HHZ</th>\n",
       "      <th>PLZ8_GBZ</th>\n",
       "      <th>ARBEIT</th>\n",
       "      <th>ORTSGR_KLS9</th>\n",
       "      <th>RELAT_AB</th>\n",
       "    </tr>\n",
       "  </thead>\n",
       "  <tbody>\n",
       "    <tr>\n",
       "      <th>0</th>\n",
       "      <td>2</td>\n",
       "      <td>4</td>\n",
       "      <td>1</td>\n",
       "      <td>5.0</td>\n",
       "      <td>5</td>\n",
       "      <td>1</td>\n",
       "      <td>5</td>\n",
       "      <td>1</td>\n",
       "      <td>2</td>\n",
       "      <td>2</td>\n",
       "      <td>...</td>\n",
       "      <td>3.0</td>\n",
       "      <td>3.0</td>\n",
       "      <td>1.0</td>\n",
       "      <td>0.0</td>\n",
       "      <td>1.0</td>\n",
       "      <td>5.0</td>\n",
       "      <td>5.0</td>\n",
       "      <td>1.0</td>\n",
       "      <td>2.0</td>\n",
       "      <td>1.0</td>\n",
       "    </tr>\n",
       "    <tr>\n",
       "      <th>1</th>\n",
       "      <td>-1</td>\n",
       "      <td>4</td>\n",
       "      <td>1</td>\n",
       "      <td>NaN</td>\n",
       "      <td>5</td>\n",
       "      <td>1</td>\n",
       "      <td>5</td>\n",
       "      <td>1</td>\n",
       "      <td>3</td>\n",
       "      <td>2</td>\n",
       "      <td>...</td>\n",
       "      <td>NaN</td>\n",
       "      <td>NaN</td>\n",
       "      <td>NaN</td>\n",
       "      <td>NaN</td>\n",
       "      <td>NaN</td>\n",
       "      <td>NaN</td>\n",
       "      <td>NaN</td>\n",
       "      <td>NaN</td>\n",
       "      <td>NaN</td>\n",
       "      <td>NaN</td>\n",
       "    </tr>\n",
       "    <tr>\n",
       "      <th>2</th>\n",
       "      <td>-1</td>\n",
       "      <td>4</td>\n",
       "      <td>2</td>\n",
       "      <td>2.0</td>\n",
       "      <td>5</td>\n",
       "      <td>1</td>\n",
       "      <td>5</td>\n",
       "      <td>1</td>\n",
       "      <td>4</td>\n",
       "      <td>4</td>\n",
       "      <td>...</td>\n",
       "      <td>2.0</td>\n",
       "      <td>3.0</td>\n",
       "      <td>3.0</td>\n",
       "      <td>1.0</td>\n",
       "      <td>3.0</td>\n",
       "      <td>3.0</td>\n",
       "      <td>2.0</td>\n",
       "      <td>3.0</td>\n",
       "      <td>5.0</td>\n",
       "      <td>3.0</td>\n",
       "    </tr>\n",
       "    <tr>\n",
       "      <th>3</th>\n",
       "      <td>1</td>\n",
       "      <td>4</td>\n",
       "      <td>1</td>\n",
       "      <td>2.0</td>\n",
       "      <td>5</td>\n",
       "      <td>1</td>\n",
       "      <td>5</td>\n",
       "      <td>2</td>\n",
       "      <td>1</td>\n",
       "      <td>2</td>\n",
       "      <td>...</td>\n",
       "      <td>3.0</td>\n",
       "      <td>2.0</td>\n",
       "      <td>1.0</td>\n",
       "      <td>0.0</td>\n",
       "      <td>1.0</td>\n",
       "      <td>3.0</td>\n",
       "      <td>4.0</td>\n",
       "      <td>1.0</td>\n",
       "      <td>3.0</td>\n",
       "      <td>1.0</td>\n",
       "    </tr>\n",
       "    <tr>\n",
       "      <th>4</th>\n",
       "      <td>-1</td>\n",
       "      <td>3</td>\n",
       "      <td>1</td>\n",
       "      <td>6.0</td>\n",
       "      <td>3</td>\n",
       "      <td>1</td>\n",
       "      <td>4</td>\n",
       "      <td>4</td>\n",
       "      <td>5</td>\n",
       "      <td>2</td>\n",
       "      <td>...</td>\n",
       "      <td>2.0</td>\n",
       "      <td>4.0</td>\n",
       "      <td>2.0</td>\n",
       "      <td>1.0</td>\n",
       "      <td>2.0</td>\n",
       "      <td>3.0</td>\n",
       "      <td>3.0</td>\n",
       "      <td>3.0</td>\n",
       "      <td>5.0</td>\n",
       "      <td>1.0</td>\n",
       "    </tr>\n",
       "  </tbody>\n",
       "</table>\n",
       "<p>5 rows × 85 columns</p>\n",
       "</div>"
      ],
      "text/plain": [
       "   AGER_TYP  ALTERSKATEGORIE_GROB  ANREDE_KZ  CJT_GESAMTTYP  \\\n",
       "0         2                     4          1            5.0   \n",
       "1        -1                     4          1            NaN   \n",
       "2        -1                     4          2            2.0   \n",
       "3         1                     4          1            2.0   \n",
       "4        -1                     3          1            6.0   \n",
       "\n",
       "   FINANZ_MINIMALIST  FINANZ_SPARER  FINANZ_VORSORGER  FINANZ_ANLEGER  \\\n",
       "0                  5              1                 5               1   \n",
       "1                  5              1                 5               1   \n",
       "2                  5              1                 5               1   \n",
       "3                  5              1                 5               2   \n",
       "4                  3              1                 4               4   \n",
       "\n",
       "   FINANZ_UNAUFFAELLIGER  FINANZ_HAUSBAUER    ...     PLZ8_ANTG1  PLZ8_ANTG2  \\\n",
       "0                      2                 2    ...            3.0         3.0   \n",
       "1                      3                 2    ...            NaN         NaN   \n",
       "2                      4                 4    ...            2.0         3.0   \n",
       "3                      1                 2    ...            3.0         2.0   \n",
       "4                      5                 2    ...            2.0         4.0   \n",
       "\n",
       "   PLZ8_ANTG3  PLZ8_ANTG4  PLZ8_BAUMAX  PLZ8_HHZ  PLZ8_GBZ  ARBEIT  \\\n",
       "0         1.0         0.0          1.0       5.0       5.0     1.0   \n",
       "1         NaN         NaN          NaN       NaN       NaN     NaN   \n",
       "2         3.0         1.0          3.0       3.0       2.0     3.0   \n",
       "3         1.0         0.0          1.0       3.0       4.0     1.0   \n",
       "4         2.0         1.0          2.0       3.0       3.0     3.0   \n",
       "\n",
       "   ORTSGR_KLS9  RELAT_AB  \n",
       "0          2.0       1.0  \n",
       "1          NaN       NaN  \n",
       "2          5.0       3.0  \n",
       "3          3.0       1.0  \n",
       "4          5.0       1.0  \n",
       "\n",
       "[5 rows x 85 columns]"
      ]
     },
     "execution_count": 77,
     "metadata": {},
     "output_type": "execute_result"
    }
   ],
   "source": [
    "# Load in the customer demographics data.\n",
    "customers = pd.read_csv('Udacity_CUSTOMERS_Subset.csv', ';')\n",
    "customers.head()"
   ]
  },
  {
   "cell_type": "code",
   "execution_count": 78,
   "metadata": {},
   "outputs": [],
   "source": [
    "# Apply preprocessing, feature transformation, and clustering from the general\n",
    "# demographics onto the customer data, obtaining cluster predictions for the\n",
    "# customer demographics data."
   ]
  },
  {
   "cell_type": "code",
   "execution_count": 79,
   "metadata": {},
   "outputs": [],
   "source": [
    "# Preprocessing\n",
    "customers_cleaned = clean_data(customers, feat_info)"
   ]
  },
  {
   "cell_type": "code",
   "execution_count": 80,
   "metadata": {},
   "outputs": [
    {
     "name": "stdout",
     "output_type": "stream",
     "text": [
      "<class 'pandas.core.frame.DataFrame'>\n",
      "Int64Index: 141590 entries, 0 to 191651\n",
      "Columns: 191 entries, ALTERSKATEGORIE_GROB to CAMEO_INTL_2015_LIFE_STAGE\n",
      "dtypes: float64(41), int64(23), uint8(127)\n",
      "memory usage: 87.4 MB\n"
     ]
    }
   ],
   "source": [
    "customers_cleaned.info()"
   ]
  },
  {
   "cell_type": "code",
   "execution_count": 81,
   "metadata": {},
   "outputs": [
    {
     "data": {
      "text/plain": [
       "0"
      ]
     },
     "execution_count": 81,
     "metadata": {},
     "output_type": "execute_result"
    }
   ],
   "source": [
    "# This is the only column that is in azdias and not found in customers data after one hot encoding\n",
    "# This was toubleshooting and this column is dropped in the cell before scaling azdias\n",
    "# And it will be logical as the 2 below cells shows that counts for 6.0 is 4 times highers in azdias data\n",
    "# which make it possibly dropped in the rows by using the threshold set in clean data\n",
    "azdias_few_missing['GEBAEUDETYP_6.0'].isin(customers_cleaned.columns).sum()"
   ]
  },
  {
   "cell_type": "code",
   "execution_count": 82,
   "metadata": {},
   "outputs": [
    {
     "data": {
      "text/plain": [
       "1.0    95145\n",
       "3.0    23655\n",
       "8.0    20475\n",
       "2.0     2057\n",
       "4.0      251\n",
       "6.0      142\n",
       "Name: GEBAEUDETYP, dtype: int64"
      ]
     },
     "execution_count": 82,
     "metadata": {},
     "output_type": "execute_result"
    }
   ],
   "source": [
    "customers['GEBAEUDETYP'].value_counts()"
   ]
  },
  {
   "cell_type": "code",
   "execution_count": 83,
   "metadata": {},
   "outputs": [
    {
     "data": {
      "text/plain": [
       "1.0    460465\n",
       "3.0    178668\n",
       "8.0    152476\n",
       "2.0      4935\n",
       "4.0       900\n",
       "6.0       628\n",
       "5.0         1\n",
       "Name: GEBAEUDETYP, dtype: int64"
      ]
     },
     "execution_count": 83,
     "metadata": {},
     "output_type": "execute_result"
    }
   ],
   "source": [
    "azdias['GEBAEUDETYP'].value_counts()"
   ]
  },
  {
   "cell_type": "code",
   "execution_count": 84,
   "metadata": {},
   "outputs": [
    {
     "data": {
      "text/plain": [
       "34"
      ]
     },
     "execution_count": 84,
     "metadata": {},
     "output_type": "execute_result"
    }
   ],
   "source": [
    "# Check missing values\n",
    "customers_cleaned.isna().any().sum()"
   ]
  },
  {
   "cell_type": "code",
   "execution_count": 85,
   "metadata": {},
   "outputs": [],
   "source": [
    "# Remove rows with NaNs\n",
    "customers_cleaned = customers_cleaned.dropna()"
   ]
  },
  {
   "cell_type": "code",
   "execution_count": 86,
   "metadata": {},
   "outputs": [
    {
     "data": {
      "text/plain": [
       "0"
      ]
     },
     "execution_count": 86,
     "metadata": {},
     "output_type": "execute_result"
    }
   ],
   "source": [
    "# Check missing values\n",
    "customers_cleaned.isna().any().sum()"
   ]
  },
  {
   "cell_type": "code",
   "execution_count": 87,
   "metadata": {},
   "outputs": [],
   "source": [
    "# Standardizing data\n",
    "customers_scaled = scaler.transform(customers_cleaned)"
   ]
  },
  {
   "cell_type": "code",
   "execution_count": 88,
   "metadata": {},
   "outputs": [],
   "source": [
    "# Applying PCA\n",
    "customers_pca = pca.transform(customers_scaled)"
   ]
  },
  {
   "cell_type": "code",
   "execution_count": 89,
   "metadata": {},
   "outputs": [],
   "source": [
    "# Cluster predictions for customer data \n",
    "customers_clustered = model.predict(customers_pca)"
   ]
  },
  {
   "cell_type": "markdown",
   "metadata": {},
   "source": [
    "### Step 3.3: Compare Customer Data to Demographics Data\n",
    "\n",
    "At this point, you have clustered data based on demographics of the general population of Germany, and seen how the customer data for a mail-order sales company maps onto those demographic clusters. In this final substep, you will compare the two cluster distributions to see where the strongest customer base for the company is.\n",
    "\n",
    "Consider the proportion of persons in each cluster for the general population, and the proportions for the customers. If we think the company's customer base to be universal, then the cluster assignment proportions should be fairly similar between the two. If there are only particular segments of the population that are interested in the company's products, then we should see a mismatch from one to the other. If there is a higher proportion of persons in a cluster for the customer data compared to the general population (e.g. 5% of persons are assigned to a cluster for the general population, but 15% of the customer data is closest to that cluster's centroid) then that suggests the people in that cluster to be a target audience for the company. On the other hand, the proportion of the data in a cluster being larger in the general population than the customer data (e.g. only 2% of customers closest to a population centroid that captures 6% of the data) suggests that group of persons to be outside of the target demographics.\n",
    "\n",
    "Take a look at the following points in this step:\n",
    "\n",
    "- Compute the proportion of data points in each cluster for the general population and the customer data. Visualizations will be useful here: both for the individual dataset proportions, but also to visualize the ratios in cluster representation between groups. Seaborn's [`countplot()`](https://seaborn.pydata.org/generated/seaborn.countplot.html) or [`barplot()`](https://seaborn.pydata.org/generated/seaborn.barplot.html) function could be handy.\n",
    "  - Recall the analysis you performed in step 1.1.3 of the project, where you separated out certain data points from the dataset if they had more than a specified threshold of missing values. If you found that this group was qualitatively different from the main bulk of the data, you should treat this as an additional data cluster in this analysis. Make sure that you account for the number of data points in this subset, for both the general population and customer datasets, when making your computations!\n",
    "- Which cluster or clusters are overrepresented in the customer dataset compared to the general population? Select at least one such cluster and infer what kind of people might be represented by that cluster. Use the principal component interpretations from step 2.3 or look at additional components to help you make this inference. Alternatively, you can use the `.inverse_transform()` method of the PCA and StandardScaler objects to transform centroids back to the original data space and interpret the retrieved values directly.\n",
    "- Perform a similar investigation for the underrepresented clusters. Which cluster or clusters are underrepresented in the customer dataset compared to the general population, and what kinds of people are typified by these clusters?"
   ]
  },
  {
   "cell_type": "code",
   "execution_count": 90,
   "metadata": {},
   "outputs": [
    {
     "data": {
      "text/html": [
       "<div>\n",
       "<style scoped>\n",
       "    .dataframe tbody tr th:only-of-type {\n",
       "        vertical-align: middle;\n",
       "    }\n",
       "\n",
       "    .dataframe tbody tr th {\n",
       "        vertical-align: top;\n",
       "    }\n",
       "\n",
       "    .dataframe thead th {\n",
       "        text-align: right;\n",
       "    }\n",
       "</style>\n",
       "<table border=\"1\" class=\"dataframe\">\n",
       "  <thead>\n",
       "    <tr style=\"text-align: right;\">\n",
       "      <th></th>\n",
       "      <th>clusters</th>\n",
       "      <th>general_prop</th>\n",
       "      <th>customers_prop</th>\n",
       "    </tr>\n",
       "  </thead>\n",
       "  <tbody>\n",
       "    <tr>\n",
       "      <th>0</th>\n",
       "      <td>0</td>\n",
       "      <td>0.039443</td>\n",
       "      <td>0.115364</td>\n",
       "    </tr>\n",
       "    <tr>\n",
       "      <th>1</th>\n",
       "      <td>1</td>\n",
       "      <td>0.049219</td>\n",
       "      <td>0.027317</td>\n",
       "    </tr>\n",
       "    <tr>\n",
       "      <th>2</th>\n",
       "      <td>2</td>\n",
       "      <td>0.044812</td>\n",
       "      <td>0.013697</td>\n",
       "    </tr>\n",
       "    <tr>\n",
       "      <th>3</th>\n",
       "      <td>3</td>\n",
       "      <td>0.105207</td>\n",
       "      <td>0.364838</td>\n",
       "    </tr>\n",
       "    <tr>\n",
       "      <th>4</th>\n",
       "      <td>4</td>\n",
       "      <td>0.050489</td>\n",
       "      <td>0.011691</td>\n",
       "    </tr>\n",
       "  </tbody>\n",
       "</table>\n",
       "</div>"
      ],
      "text/plain": [
       "   clusters  general_prop  customers_prop\n",
       "0         0      0.039443        0.115364\n",
       "1         1      0.049219        0.027317\n",
       "2         2      0.044812        0.013697\n",
       "3         3      0.105207        0.364838\n",
       "4         4      0.050489        0.011691"
      ]
     },
     "execution_count": 90,
     "metadata": {},
     "output_type": "execute_result"
    }
   ],
   "source": [
    "# Compare the proportion of data in each cluster for the customer data to the\n",
    "# proportion of data in each cluster for the general population.\n",
    "general_prop = []\n",
    "customers_prop = []\n",
    "clusters = np.arange(0, k+1)\n",
    "\n",
    "for cluster in clusters:\n",
    "    general_prop.append((azdias_clustered == cluster).sum() / len(azdias_clustered))\n",
    "    customers_prop.append((customers_clustered == cluster).sum() / len(customers_clustered))\n",
    "\n",
    "general_prop = pd.Series(general_prop)\n",
    "customers_prop = pd.Series(customers_prop)\n",
    "clusters = pd.Series(clusters)\n",
    "\n",
    "proportions = pd.concat([clusters, general_prop, customers_prop],axis=1)\n",
    "proportions.columns = ['clusters', 'general_prop', 'customers_prop']\n",
    "proportions.head()\n"
   ]
  },
  {
   "cell_type": "code",
   "execution_count": 91,
   "metadata": {},
   "outputs": [],
   "source": [
    "# Getting prop of high missing values that exceeded threshold\n",
    "azdias_high_missing_prop = len(n_missing_rows_high) / azdias.shape[0]\n",
    "customer_high_missing_prop = (customers.shape[0] - customers_cleaned.shape[0]) / customers.shape[0]"
   ]
  },
  {
   "cell_type": "code",
   "execution_count": 92,
   "metadata": {},
   "outputs": [],
   "source": [
    "# Adding missing rows prop to proportions dataframe\n",
    "proportions = proportions.append({'clusters': -1 , 'general_prop': azdias_high_missing_prop,\n",
    "                                'customers_prop': customer_high_missing_prop} ,\n",
    "                                ignore_index=True)"
   ]
  },
  {
   "cell_type": "code",
   "execution_count": 93,
   "metadata": {},
   "outputs": [
    {
     "data": {
      "text/plain": [
       "(array([ 0,  1,  2,  3,  4,  5,  6,  7,  8,  9, 10, 11, 12, 13, 14, 15, 16,\n",
       "        17, 18, 19, 20, 21, 22, 23, 24]),\n",
       " <a list of 25 Text xticklabel objects>)"
      ]
     },
     "execution_count": 93,
     "metadata": {},
     "output_type": "execute_result"
    },
    {
     "data": {
      "image/png": "[encoded data removed]",
      "text/plain": [
       "<matplotlib.figure.Figure at 0x7f2ee9054c88>"
      ]
     },
     "metadata": {
      "needs_background": "light"
     },
     "output_type": "display_data"
    }
   ],
   "source": [
    "proportions.plot(x='clusters', y = ['general_prop', 'customers_prop'], kind='bar', figsize=(15,8));\n",
    "plt.xlabel('Clusters)')\n",
    "plt.ylabel('Proportions of people in each cluster')\n",
    "plt.xticks(rotation=90)"
   ]
  },
  {
   "cell_type": "code",
   "execution_count": 94,
   "metadata": {},
   "outputs": [],
   "source": [
    "# What kinds of people are part of a cluster that is overrepresented in the\n",
    "# customer data compared to the general population?\n",
    "\n",
    "# Cluster 3 is an example of overrepresentation "
   ]
  },
  {
   "cell_type": "code",
   "execution_count": 95,
   "metadata": {},
   "outputs": [
    {
     "data": {
      "text/plain": [
       "0    3.722386\n",
       "4    2.740241\n",
       "dtype: float64"
      ]
     },
     "execution_count": 95,
     "metadata": {},
     "output_type": "execute_result"
    }
   ],
   "source": [
    "centroid_cluster_3 = pd.Series(kmeans.cluster_centers_[3]).sort_values(ascending=False)\n",
    "centroid_cluster_3.head(2)"
   ]
  },
  {
   "cell_type": "code",
   "execution_count": 96,
   "metadata": {},
   "outputs": [
    {
     "data": {
      "image/png": "[encoded data removed]",
      "text/plain": [
       "<matplotlib.figure.Figure at 0x7f2ee91d1a20>"
      ]
     },
     "metadata": {
      "needs_background": "light"
     },
     "output_type": "display_data"
    },
    {
     "data": {
      "text/plain": [
       "RETOURTYP_BK_S                       0.3920\n",
       "PRAEGENDE_JUGENDJAHRE_MOVEMENT       0.2751\n",
       "PRAEGENDE_JUGENDJAHRE_GENERATIONS    0.2607\n",
       "VERS_TYP                            -0.2182\n",
       "HEALTH_TYP                          -0.2250\n",
       "CAMEO_DEU_2015_9E                   -0.2649\n",
       "Name: 102, dtype: float64"
      ]
     },
     "execution_count": 96,
     "metadata": {},
     "output_type": "execute_result"
    }
   ],
   "source": [
    "# Analysing most weigthed features for the top principal component of centroid_cluster_20\n",
    "pca_results(customers_cleaned, pca, 0, 3)"
   ]
  },
  {
   "cell_type": "code",
   "execution_count": 97,
   "metadata": {},
   "outputs": [
    {
     "data": {
      "image/png": "[encoded data removed]",
      "text/plain": [
       "<matplotlib.figure.Figure at 0x7f2ee92b3a58>"
      ]
     },
     "metadata": {
      "needs_background": "light"
     },
     "output_type": "display_data"
    },
    {
     "data": {
      "text/plain": [
       "SEMIO_VERT    0.2769\n",
       "SEMIO_FAM     0.2107\n",
       "SEMIO_SOZ     0.2055\n",
       "SEMIO_DOM    -0.2463\n",
       "SEMIO_KAEM   -0.2537\n",
       "ANREDE_KZ    -0.2933\n",
       "Name: 3, dtype: float64"
      ]
     },
     "execution_count": 97,
     "metadata": {},
     "output_type": "execute_result"
    }
   ],
   "source": [
    "pca_results(customers_cleaned, pca, 4, 3)"
   ]
  },
  {
   "cell_type": "markdown",
   "metadata": {},
   "source": [
    "### Observation for PC#4\n",
    "- RAEGENDE_JUGENDJAHRE_MOVEMENT: Avantgarde vs. Mainsteram\n",
    "- GREEN_AVANTGARDE: Membership in environmental sustainability as part of youth\n",
    "- SEMIO_DOM: Dominant-minded\n",
    "- SEMIO_VERT: Dreamful\n",
    "- LP_STATUS_GROB_4.0: Houseowners on social status, rough scale\n",
    "- LP_STATUS_FEIN_9.0: Houseowners on social status, fine scale"
   ]
  },
  {
   "cell_type": "code",
   "execution_count": 98,
   "metadata": {},
   "outputs": [],
   "source": [
    "# Transforming centroids of cluster 3 back to the original data space\n",
    "\n",
    "centroid_cluster_3 = scaler.inverse_transform(pca.inverse_transform(centroid_cluster_3))\n",
    "centroid_cluster_3 = pd.Series(centroid_cluster_3).round()\n",
    "centroid_cluster_3.index = customers_cleaned.columns\n"
   ]
  },
  {
   "cell_type": "code",
   "execution_count": 99,
   "metadata": {},
   "outputs": [
    {
     "name": "stdout",
     "output_type": "stream",
     "text": [
      "PRAEGENDE_JUGENDJAHRE_MOVEMENT: Avantgarde vs. Mainsteram  -1.0\n",
      "GREEN_AVANTGARDE: Membership in environmental sustainability as part of youth 0.0\n",
      "SEMIO_DOM: Dominant-minded 4.0\n",
      "SEMIO_VERT: Dreamful 5.0\n",
      "LP_STATUS_GROB_4.0: Houseowners on social status, rough scale 0.0\n",
      "LP_STATUS_FEIN_9.0: Houseowners on social status, fine scale 0.0\n",
      "CAMEO_DEU_2015_3A: Career & Family 0.0\n",
      "GFK_URLAUBERTYP_7.0: Golden ager vacation habits 0.0\n",
      "CAMEO_DEU_2015_2A: Cottage Chic 0.0\n",
      "RETOURTYP_BK_S:  Return type 3.0\n",
      "LP_STATUS_FEIN_5.0: minimalistic high-income earners social status 0.0\n",
      "ZABEOTYP_2: Smart Energy consumption 0.0\n"
     ]
    }
   ],
   "source": [
    "# Printing original values of the most featured weight of principal components to have an insight\n",
    "print('PRAEGENDE_JUGENDJAHRE_MOVEMENT: Avantgarde vs. Mainsteram  {}'.format(centroid_cluster_3['PRAEGENDE_JUGENDJAHRE_MOVEMENT']))\n",
    "print('GREEN_AVANTGARDE: Membership in environmental sustainability as part of youth {}'.format(centroid_cluster_3['GREEN_AVANTGARDE']))\n",
    "print('SEMIO_DOM: Dominant-minded {}'.format(centroid_cluster_3['SEMIO_DOM']))\n",
    "print('SEMIO_VERT: Dreamful {}'.format(centroid_cluster_3['SEMIO_VERT']))\n",
    "print('LP_STATUS_GROB_4.0: Houseowners on social status, rough scale {}'.format(centroid_cluster_3['LP_STATUS_GROB_4.0']))\n",
    "print('LP_STATUS_FEIN_9.0: Houseowners on social status, fine scale {}'.format(centroid_cluster_3['LP_STATUS_FEIN_9.0']))\n",
    "print('CAMEO_DEU_2015_3A: Career & Family {}'.format(centroid_cluster_3['CAMEO_DEU_2015_3A']))\n",
    "print('GFK_URLAUBERTYP_7.0: Golden ager vacation habits {}'.format(centroid_cluster_3['GFK_URLAUBERTYP_7.0']))\n",
    "print('CAMEO_DEU_2015_2A: Cottage Chic {}'.format(centroid_cluster_3['CAMEO_DEU_2015_2A']))\n",
    "print('RETOURTYP_BK_S:  Return type {}'.format(centroid_cluster_3['RETOURTYP_BK_S']))\n",
    "print('LP_STATUS_FEIN_5.0: minimalistic high-income earners social status {}'.format(centroid_cluster_3['LP_STATUS_FEIN_5.0']))\n",
    "print('ZABEOTYP_2: Smart Energy consumption {}'.format(centroid_cluster_3['ZABEOTYP_2']))"
   ]
  },
  {
   "cell_type": "code",
   "execution_count": 100,
   "metadata": {},
   "outputs": [],
   "source": [
    "# What kinds of people are part of a cluster that is underrepresented in the\n",
    "# customer data compared to the general population?\n",
    "\n",
    "# Cluster 20 is an example of underrepresentation "
   ]
  },
  {
   "cell_type": "code",
   "execution_count": 101,
   "metadata": {},
   "outputs": [
    {
     "data": {
      "text/plain": [
       "1    2.513239\n",
       "3    2.281694\n",
       "dtype: float64"
      ]
     },
     "execution_count": 101,
     "metadata": {},
     "output_type": "execute_result"
    }
   ],
   "source": [
    "centroid_cluster_20 = pd.Series(kmeans.cluster_centers_[20]).sort_values(ascending=False)\n",
    "centroid_cluster_20.head(2)"
   ]
  },
  {
   "cell_type": "code",
   "execution_count": 102,
   "metadata": {},
   "outputs": [
    {
     "data": {
      "image/png": "[encoded data removed]",
      "text/plain": [
       "<matplotlib.figure.Figure at 0x7f2ee9118780>"
      ]
     },
     "metadata": {
      "needs_background": "light"
     },
     "output_type": "display_data"
    },
    {
     "data": {
      "text/plain": [
       "FINANZ_MINIMALIST     0.2266\n",
       "MOBI_REGIO            0.1787\n",
       "KBA05_ANTG1           0.1676\n",
       "FINANZ_SPARER        -0.1659\n",
       "HH_EINKOMMEN_SCORE   -0.1957\n",
       "LP_STATUS_GROB_1.0   -0.2035\n",
       "Name: 0, dtype: float64"
      ]
     },
     "execution_count": 102,
     "metadata": {},
     "output_type": "execute_result"
    }
   ],
   "source": [
    "# Analysing most weigthed features for the top principal component of centroid_cluster_15\n",
    "pca_results(customers_cleaned, pca, 1, 3)"
   ]
  },
  {
   "cell_type": "markdown",
   "metadata": {},
   "source": [
    "### Observation for PC#1\n",
    "- FINANZ_HAUSBAUER: Home ownership on financial topology\n",
    "- HH_EINKOMMEN_SCORE: Estimated household net income\n",
    "- CAMEO_INTL_2015_WEALTH: Wealth\n",
    "- KBA05_ANTG1: Number of 1-2 family houses in the microcell\n",
    "- FINANZ_MINIMALIST: Low financial interest\n",
    "- MOBI_REGIO: Movement patterns"
   ]
  },
  {
   "cell_type": "code",
   "execution_count": 103,
   "metadata": {},
   "outputs": [
    {
     "data": {
      "image/png": "[encoded data removed]",
      "text/plain": [
       "<matplotlib.figure.Figure at 0x7f2eead97e48>"
      ]
     },
     "metadata": {
      "needs_background": "light"
     },
     "output_type": "display_data"
    },
    {
     "data": {
      "text/plain": [
       "FINANZ_UNAUFFAELLIGER    0.2132\n",
       "FINANZ_SPARER            0.2006\n",
       "SEMIO_REL                0.1952\n",
       "ALTERSKATEGORIE_GROB    -0.1722\n",
       "ZABEOTYP_3              -0.1843\n",
       "FINANZ_VORSORGER        -0.1973\n",
       "Name: 1, dtype: float64"
      ]
     },
     "execution_count": 103,
     "metadata": {},
     "output_type": "execute_result"
    }
   ],
   "source": [
    "# Analysing most weigthed features for the top principal component of centroid_cluster_15\n",
    "pca_results(customers_cleaned, pca, 2, 3)"
   ]
  },
  {
   "cell_type": "markdown",
   "metadata": {},
   "source": [
    "### Observation for PC#2\n",
    "- FINANZ_UNAUFFAELLIGER: inconspicuous\n",
    "- FINANZ_SPARER: Money-saver\n",
    "- SEMIO_REL: Religious personality\n",
    "- ALTERSKATEGORIE_GROB: Estimated age based on given name analysis -ZABEOTYP_3: Fair supplied energy consumption typology\n",
    "- FINANZ_VORSORGER: Financial topology of be prepared"
   ]
  },
  {
   "cell_type": "code",
   "execution_count": 104,
   "metadata": {},
   "outputs": [],
   "source": [
    "# Transforming centroids back to the original data space\n",
    "centroid_cluster_20 = scaler.inverse_transform(pca.inverse_transform(centroid_cluster_20))\n",
    "centroid_cluster_20 = pd.Series(centroid_cluster_20).round()\n",
    "centroid_cluster_20.index = customers_cleaned.columns"
   ]
  },
  {
   "cell_type": "code",
   "execution_count": 105,
   "metadata": {},
   "outputs": [
    {
     "name": "stdout",
     "output_type": "stream",
     "text": [
      "FINANZ_UNAUFFAELLIGER: inconspicuous 3.0\n",
      "FINANZ_SPARER:  Money-saver 3.0\n",
      "SEMIO_REL: Religious personality 5.0\n",
      "ALTERSKATEGORIE_GROB: Estimated age based on given name analysis  3.0\n",
      "ZABEOTYP_3: Fair supplied energy consumption typology 0.0\n",
      "FINANZ_VORSORGER: Financial topology of be prepared 4.0\n",
      "FINANZ_HAUSBAUER: Home ownership on financial topology 2.0\n",
      "HH_EINKOMMEN_SCORE: Estimated household net income 3.0\n",
      "CAMEO_INTL_2015_WEALTH: Wealth 3.0\n",
      "KBA05_ANTG1: Number of 1-2 family houses in the microcell 5.0\n",
      "FINANZ_MINIMALIST: Low financial interest 4.0\n",
      "MOBI_REGIO: Movement patterns 6.0\n"
     ]
    }
   ],
   "source": [
    "# Printing original values of the most featured weight of principal components to have an insight\n",
    "print('FINANZ_UNAUFFAELLIGER: inconspicuous {}'.format(centroid_cluster_20['FINANZ_UNAUFFAELLIGER']))\n",
    "print('FINANZ_SPARER:  Money-saver {}'.format(centroid_cluster_20['FINANZ_SPARER']))\n",
    "print('SEMIO_REL: Religious personality {}'.format(centroid_cluster_20['SEMIO_REL']))\n",
    "print('ALTERSKATEGORIE_GROB: Estimated age based on given name analysis  {}'.format(centroid_cluster_20['ALTERSKATEGORIE_GROB']))\n",
    "print('ZABEOTYP_3: Fair supplied energy consumption typology {}'.format(centroid_cluster_20['ZABEOTYP_3']))\n",
    "print('FINANZ_VORSORGER: Financial topology of be prepared {}'.format(centroid_cluster_20['FINANZ_VORSORGER']))\n",
    "print('FINANZ_HAUSBAUER: Home ownership on financial topology {}'.format(centroid_cluster_20['FINANZ_HAUSBAUER']))\n",
    "print('HH_EINKOMMEN_SCORE: Estimated household net income {}'.format(centroid_cluster_20['HH_EINKOMMEN_SCORE']))\n",
    "print('CAMEO_INTL_2015_WEALTH: Wealth {}'.format(centroid_cluster_20['CAMEO_INTL_2015_WEALTH']))\n",
    "print('KBA05_ANTG1: Number of 1-2 family houses in the microcell {}'.format(centroid_cluster_20['KBA05_ANTG1']))\n",
    "print('FINANZ_MINIMALIST: Low financial interest {}'.format(centroid_cluster_20['FINANZ_MINIMALIST']))\n",
    "print('MOBI_REGIO: Movement patterns {}'.format(centroid_cluster_20['MOBI_REGIO']))\n"
   ]
  },
  {
   "cell_type": "markdown",
   "metadata": {},
   "source": [
    "### Discussion 3.3: Compare Customer Data to Demographics Data\n",
    "\n",
    "#### Attributes of the original data of the population that are relatively popular with the mail-order company\n",
    "\n",
    "Avantgarde, not a member of green avantgarde, average affinity dominant-minded, low affinity dreamful, not a houseowners, do not have career and family neither cottage chic life stage typology, not a golden ager vacation habits, incentive-receptive normal-returner, not a minimalistic high-income earners social status and not a smart energy consumption\n",
    "#### Attributes of the population that are relatively unpopular with the mail-order company\n",
    "\n",
    "Average inconspicuous financial, money-saver, home ownership and be prepared, average affinity religious personality, age ranges between 46 - 60 years old, not a fair supplied energy consumer, average estimated household net income, Less affluent households, high share of 1-2 family homes, Low financial interest and a very low movement patterns"
   ]
  },
  {
   "cell_type": "markdown",
   "metadata": {},
   "source": [
    "> Congratulations on making it this far in the project! Before you finish, make sure to check through the entire notebook from top to bottom to make sure that your analysis follows a logical flow and all of your findings are documented in **Discussion** cells. Once you've checked over all of your work, you should export the notebook as an HTML document to submit for evaluation. You can do this from the menu, navigating to **File -> Download as -> HTML (.html)**. You will submit both that document and this notebook for your project submission."
   ]
  }
 ],
 "metadata": {
  "kernelspec": {
   "display_name": "Python 3",
   "language": "python",
   "name": "python3"
  },
  "language_info": {
   "codemirror_mode": {
    "name": "ipython",
    "version": 3
   },
   "file_extension": ".py",
   "mimetype": "text/x-python",
   "name": "python",
   "nbconvert_exporter": "python",
   "pygments_lexer": "ipython3",
   "version": "3.6.3"
  }
 },
 "nbformat": 4,
 "nbformat_minor": 2
}
